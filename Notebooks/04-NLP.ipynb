{
 "cells": [
  {
   "cell_type": "code",
   "execution_count": 2,
   "id": "829b16c5-f40d-47fb-900f-119ff3eb2528",
   "metadata": {},
   "outputs": [],
   "source": [
    "import cudf"
   ]
  },
  {
   "cell_type": "markdown",
   "id": "bed83853-c0e9-49f5-b7f2-286ba82e19e7",
   "metadata": {},
   "source": [
    "## Single GPU NLP Capabilities\n",
    "\n",
    "Let's analyze some coronavirus related tweets from April 1st, 2020."
   ]
  },
  {
   "cell_type": "code",
   "execution_count": 249,
   "id": "1b0daec2-efea-4ab8-a7f2-3bb1fed70d39",
   "metadata": {},
   "outputs": [
    {
     "data": {
      "text/plain": [
       "(341697, 22)"
      ]
     },
     "execution_count": 249,
     "metadata": {},
     "output_type": "execute_result"
    }
   ],
   "source": [
    "path = \"/raid/vjawa/string_exp/tweets/2020-04-01 Coronavirus Tweets.CSV\"\n",
    "df = cudf.read_csv(path)\n",
    "df = df.loc[df.lang == 'en']\n",
    "df.shape"
   ]
  },
  {
   "cell_type": "code",
   "execution_count": 250,
   "id": "82cbe2c3-615f-49ac-afc9-602b9ba85b97",
   "metadata": {},
   "outputs": [
    {
     "data": {
      "text/html": [
       "<div>\n",
       "<style scoped>\n",
       "    .dataframe tbody tr th:only-of-type {\n",
       "        vertical-align: middle;\n",
       "    }\n",
       "\n",
       "    .dataframe tbody tr th {\n",
       "        vertical-align: top;\n",
       "    }\n",
       "\n",
       "    .dataframe thead th {\n",
       "        text-align: right;\n",
       "    }\n",
       "</style>\n",
       "<table border=\"1\" class=\"dataframe\">\n",
       "  <thead>\n",
       "    <tr style=\"text-align: right;\">\n",
       "      <th></th>\n",
       "      <th>status_id</th>\n",
       "      <th>user_id</th>\n",
       "      <th>created_at</th>\n",
       "      <th>screen_name</th>\n",
       "      <th>text</th>\n",
       "      <th>source</th>\n",
       "      <th>reply_to_status_id</th>\n",
       "      <th>reply_to_user_id</th>\n",
       "      <th>reply_to_screen_name</th>\n",
       "      <th>is_quote</th>\n",
       "      <th>...</th>\n",
       "      <th>retweet_count</th>\n",
       "      <th>country_code</th>\n",
       "      <th>place_full_name</th>\n",
       "      <th>place_type</th>\n",
       "      <th>followers_count</th>\n",
       "      <th>friends_count</th>\n",
       "      <th>account_lang</th>\n",
       "      <th>account_created_at</th>\n",
       "      <th>verified</th>\n",
       "      <th>lang</th>\n",
       "    </tr>\n",
       "  </thead>\n",
       "  <tbody>\n",
       "    <tr>\n",
       "      <th>3</th>\n",
       "      <td>1245138808921874432</td>\n",
       "      <td>131872671</td>\n",
       "      <td>2020-04-01T00:00:00Z</td>\n",
       "      <td>i3health</td>\n",
       "      <td>A records review of patients with #cancer at a...</td>\n",
       "      <td>Buffer</td>\n",
       "      <td>&lt;NA&gt;</td>\n",
       "      <td>&lt;NA&gt;</td>\n",
       "      <td>&lt;NA&gt;</td>\n",
       "      <td>False</td>\n",
       "      <td>...</td>\n",
       "      <td>0</td>\n",
       "      <td>&lt;NA&gt;</td>\n",
       "      <td>&lt;NA&gt;</td>\n",
       "      <td>&lt;NA&gt;</td>\n",
       "      <td>616</td>\n",
       "      <td>4571</td>\n",
       "      <td>&lt;NA&gt;</td>\n",
       "      <td>2010-04-11T16:04:57Z</td>\n",
       "      <td>False</td>\n",
       "      <td>en</td>\n",
       "    </tr>\n",
       "    <tr>\n",
       "      <th>12</th>\n",
       "      <td>1245138811404685313</td>\n",
       "      <td>824565311437410305</td>\n",
       "      <td>2020-04-01T00:00:00Z</td>\n",
       "      <td>ViralTabNews</td>\n",
       "      <td>This American missionary has been accused of p...</td>\n",
       "      <td>TweetDeck</td>\n",
       "      <td>&lt;NA&gt;</td>\n",
       "      <td>&lt;NA&gt;</td>\n",
       "      <td>&lt;NA&gt;</td>\n",
       "      <td>False</td>\n",
       "      <td>...</td>\n",
       "      <td>0</td>\n",
       "      <td>&lt;NA&gt;</td>\n",
       "      <td>&lt;NA&gt;</td>\n",
       "      <td>&lt;NA&gt;</td>\n",
       "      <td>90</td>\n",
       "      <td>519</td>\n",
       "      <td>&lt;NA&gt;</td>\n",
       "      <td>2017-01-26T10:31:04Z</td>\n",
       "      <td>False</td>\n",
       "      <td>en</td>\n",
       "    </tr>\n",
       "  </tbody>\n",
       "</table>\n",
       "<p>2 rows × 22 columns</p>\n",
       "</div>"
      ],
      "text/plain": [
       "              status_id             user_id            created_at  \\\n",
       "3   1245138808921874432           131872671  2020-04-01T00:00:00Z   \n",
       "12  1245138811404685313  824565311437410305  2020-04-01T00:00:00Z   \n",
       "\n",
       "     screen_name                                               text  \\\n",
       "3       i3health  A records review of patients with #cancer at a...   \n",
       "12  ViralTabNews  This American missionary has been accused of p...   \n",
       "\n",
       "       source reply_to_status_id reply_to_user_id reply_to_screen_name  \\\n",
       "3      Buffer               <NA>             <NA>                 <NA>   \n",
       "12  TweetDeck               <NA>             <NA>                 <NA>   \n",
       "\n",
       "    is_quote  ...  retweet_count  country_code place_full_name place_type  \\\n",
       "3      False  ...              0          <NA>            <NA>       <NA>   \n",
       "12     False  ...              0          <NA>            <NA>       <NA>   \n",
       "\n",
       "   followers_count  friends_count  account_lang    account_created_at  \\\n",
       "3              616           4571          <NA>  2010-04-11T16:04:57Z   \n",
       "12              90            519          <NA>  2017-01-26T10:31:04Z   \n",
       "\n",
       "   verified  lang  \n",
       "3     False    en  \n",
       "12    False    en  \n",
       "\n",
       "[2 rows x 22 columns]"
      ]
     },
     "execution_count": 250,
     "metadata": {},
     "output_type": "execute_result"
    }
   ],
   "source": [
    "df.head(2)"
   ]
  },
  {
   "cell_type": "code",
   "execution_count": 251,
   "id": "41e6960c-87af-4bad-b404-f1f74929faa1",
   "metadata": {},
   "outputs": [
    {
     "data": {
      "text/plain": [
       "3     A records review of patients with #cancer at a...\n",
       "12    This American missionary has been accused of p...\n",
       "15    Deadliest day for Europe virus hotspots, as US...\n",
       "Name: text, dtype: object"
      ]
     },
     "execution_count": 251,
     "metadata": {},
     "output_type": "execute_result"
    }
   ],
   "source": [
    "df.text.head(3)"
   ]
  },
  {
   "cell_type": "markdown",
   "id": "787386f3-52a2-4f60-9e54-daed8f69087f",
   "metadata": {},
   "source": [
    "Let's tokenize the data."
   ]
  },
  {
   "cell_type": "code",
   "execution_count": 252,
   "id": "d8c16c85-8f8d-4a59-a110-b8566171ef94",
   "metadata": {},
   "outputs": [
    {
     "data": {
      "text/plain": [
       "0                                A\n",
       "1                          records\n",
       "2                           review\n",
       "3                               of\n",
       "4                         patients\n",
       "                    ...           \n",
       "9125619               #coronavirus\n",
       "9125620                   #science\n",
       "9125621                      #nerd\n",
       "9125622         #TestingForCovid19\n",
       "9125623    https://t.co/OHNPQXNPgd\n",
       "Name: text, Length: 9125624, dtype: object"
      ]
     },
     "execution_count": 252,
     "metadata": {},
     "output_type": "execute_result"
    }
   ],
   "source": [
    "df.text.str.tokenize()"
   ]
  },
  {
   "cell_type": "markdown",
   "id": "f780a445-b208-4bd6-ac70-7f70479a7473",
   "metadata": {},
   "source": [
    "What are the most common tokens?"
   ]
  },
  {
   "cell_type": "code",
   "execution_count": 147,
   "id": "2fd19ac2-555d-4076-8148-5bef56035a44",
   "metadata": {},
   "outputs": [
    {
     "data": {
      "text/plain": [
       "the                                         284343\n",
       "to                                          248970\n",
       "of                                          159108\n",
       "and                                         145431\n",
       "#COVID19                                    126944\n",
       "                                             ...  \n",
       "#coronavirus.\\n\\nhttps://t.co/9hquPvTLp3         1\n",
       "Malpractice,                                     1\n",
       "https://t.co/dOxzRkqLDf                          1\n",
       "ups.\\n\\n#telemedicine                            1\n",
       "526\\nJDC                                         1\n",
       "Name: text, Length: 995725, dtype: int32"
      ]
     },
     "execution_count": 147,
     "metadata": {},
     "output_type": "execute_result"
    }
   ],
   "source": [
    "df.text.str.tokenize().value_counts()"
   ]
  },
  {
   "cell_type": "markdown",
   "id": "495a9d0a-0578-4839-a12d-6c4b38a44531",
   "metadata": {},
   "source": [
    "Stopwords. Of course we need to handle these."
   ]
  },
  {
   "cell_type": "code",
   "execution_count": 253,
   "id": "900db70e-81b8-4764-8263-81953e61c359",
   "metadata": {},
   "outputs": [
    {
     "name": "stderr",
     "output_type": "stream",
     "text": [
      "[nltk_data] Downloading package stopwords to\n",
      "[nltk_data]     /home/nfs/nicholasb/nltk_data...\n",
      "[nltk_data]   Package stopwords is already up-to-date!\n"
     ]
    },
    {
     "data": {
      "text/plain": [
       "True"
      ]
     },
     "execution_count": 253,
     "metadata": {},
     "output_type": "execute_result"
    }
   ],
   "source": [
    "import nltk\n",
    "nltk.download('stopwords')"
   ]
  },
  {
   "cell_type": "code",
   "execution_count": 254,
   "id": "3883a453-e174-438e-a4d4-2fc802d093cb",
   "metadata": {},
   "outputs": [
    {
     "data": {
      "text/plain": [
       "#COVID19                                             126944\n",
       "#coronavirus                                         104465\n",
       "I                                                     40590\n",
       "&amp;                                                 37712\n",
       "The                                                   28515\n",
       "                                                      ...  \n",
       "School)                                                   1\n",
       "https://t.co/7PUVnbJcw6                                   1\n",
       "#System\\n\\nhttps://t.co/rzOfHXvMrU\\n\\n#WallStreet         1\n",
       "https://t.co/mj6LDW0u7c                                   1\n",
       "REQUIRED!                                                 1\n",
       "Name: text, Length: 994026, dtype: int32"
      ]
     },
     "execution_count": 254,
     "metadata": {},
     "output_type": "execute_result"
    }
   ],
   "source": [
    "STOPWORDS = nltk.corpus.stopwords.words('english')\n",
    "\n",
    "(df\n",
    " .text\n",
    " .str.replace_tokens(STOPWORDS, \"\")\n",
    " .str.tokenize()\n",
    ").value_counts()"
   ]
  },
  {
   "cell_type": "markdown",
   "id": "8b0aafe1-3d5c-496a-b03b-8a3d51f09900",
   "metadata": {},
   "source": [
    "Case-sensitivity. Need to handle that too."
   ]
  },
  {
   "cell_type": "code",
   "execution_count": 255,
   "id": "462a25df-654c-41a5-a992-0f89d6747ead",
   "metadata": {},
   "outputs": [
    {
     "data": {
      "text/plain": [
       "#covid19                   160309\n",
       "#coronavirus               133624\n",
       "&amp;                       37712\n",
       "people                      26287\n",
       "-                           23337\n",
       "                            ...  \n",
       "23-min                          1\n",
       "#mumbailover                    1\n",
       "@sandboy39                      1\n",
       "here!scientist                  1\n",
       "https://t.co/v0wymwdfrl         1\n",
       "Name: text, Length: 910908, dtype: int32"
      ]
     },
     "execution_count": 255,
     "metadata": {},
     "output_type": "execute_result"
    }
   ],
   "source": [
    "(df\n",
    " .text\n",
    " .str.lower()\n",
    " .str.replace_tokens(STOPWORDS, \"\")\n",
    " .str.tokenize()\n",
    ").value_counts()"
   ]
  },
  {
   "cell_type": "markdown",
   "id": "f302f8ed-1b9a-4491-8ff8-53477b467e98",
   "metadata": {},
   "source": [
    "Punctuation may be affecting the results."
   ]
  },
  {
   "cell_type": "code",
   "execution_count": 256,
   "id": "a1405ab7-aa5a-4a9c-bf51-c13ca1f375f8",
   "metadata": {},
   "outputs": [],
   "source": [
    "PUNCTUATION = [ '!', '\"', '#', '$', '%', '&', '(', ')', '*', '+', '-', '.', '/',  '\\\\', ':', ';', '<', '=', '>',\n",
    "           '?', '@', '[', ']', '^', '_', '`', '{', '|', '}', '\\~', '\\t','\\\\n',\"'\",\",\",'~' , '—']"
   ]
  },
  {
   "cell_type": "code",
   "execution_count": 257,
   "id": "1824bad0-f858-4708-b3bf-7ad31bcd1361",
   "metadata": {},
   "outputs": [
    {
     "name": "stderr",
     "output_type": "stream",
     "text": [
      "/raid/nicholasb/miniconda3/envs/rapids-0.20/lib/python3.8/site-packages/cudf/core/column/string.py:932: UserWarning: `n` parameter is not supported when `pat` and `repl` are list-like inputs\n",
      "  warnings.warn(\n"
     ]
    },
    {
     "data": {
      "text/plain": [
       "co                 280872\n",
       "https              237614\n",
       "covid19            201009\n",
       "coronavirus        178962\n",
       "\\n                  74188\n",
       "                    ...  \n",
       "robotovelords           1\n",
       "nieuwemarlean           1\n",
       "5d6jlh8mhd              1\n",
       "dq4pqdnj4z              1\n",
       "geraldinemorris         1\n",
       "Name: text, Length: 641145, dtype: int32"
      ]
     },
     "execution_count": 257,
     "metadata": {},
     "output_type": "execute_result"
    }
   ],
   "source": [
    "(df\n",
    " .text\n",
    " .str.lower()\n",
    " .str.replace(PUNCTUATION, [\" \"]*len(PUNCTUATION), regex=False)\n",
    " .str.replace_tokens(STOPWORDS, \"\")\n",
    " .str.tokenize()\n",
    ").value_counts()"
   ]
  },
  {
   "cell_type": "markdown",
   "id": "2b267f94-fcee-4afb-b12b-6abfe9b74011",
   "metadata": {},
   "source": [
    "Looks like web address terms are the most common now. That kind of makes sense. We should explicitly include these in our `STOPWORDS`."
   ]
  },
  {
   "cell_type": "code",
   "execution_count": 258,
   "id": "c6370166-1136-4d2c-ae73-192d7808feb6",
   "metadata": {},
   "outputs": [],
   "source": [
    "STOPWORDS += [\"co\", \"https\", \"com\"]"
   ]
  },
  {
   "cell_type": "code",
   "execution_count": 259,
   "id": "9ba318af-ddbc-483c-8126-f1c9d3bf2f93",
   "metadata": {},
   "outputs": [
    {
     "data": {
      "text/plain": [
       "covid19        201009\n",
       "coronavirus    178962\n",
       "\\n              86816\n",
       "\\n\\n            63948\n",
       "amp             40612\n",
       "                ...  \n",
       "litgleam            1\n",
       "c7d84llqs7          1\n",
       "yf1ewiusay          1\n",
       "vkd5hayimf          1\n",
       "ezzjadvbg5          1\n",
       "Name: text, Length: 638516, dtype: int32"
      ]
     },
     "execution_count": 259,
     "metadata": {},
     "output_type": "execute_result"
    }
   ],
   "source": [
    "(df\n",
    " .text\n",
    " .str.lower()\n",
    " .str.replace(PUNCTUATION, [\" \"]*len(PUNCTUATION), regex=False)\n",
    " .str.replace_tokens(STOPWORDS, \"\")\n",
    " .str.tokenize()\n",
    ").value_counts()"
   ]
  },
  {
   "cell_type": "markdown",
   "id": "a1313b74-1431-454a-bd38-f5b8868a5591",
   "metadata": {},
   "source": [
    "Handling newlines and doing whitespace normalization is generally a good idea."
   ]
  },
  {
   "cell_type": "code",
   "execution_count": 260,
   "id": "286eaefa-157d-44e9-9575-4019217f800c",
   "metadata": {},
   "outputs": [
    {
     "data": {
      "text/plain": [
       "covid19        207801\n",
       "coronavirus    184641\n",
       "amp             40612\n",
       "covid           37620\n",
       "people          31137\n",
       "19              31019\n",
       "us              24577\n",
       "cases           24087\n",
       "pandemic        23828\n",
       "new             22103\n",
       "Name: text, dtype: int32"
      ]
     },
     "execution_count": 260,
     "metadata": {},
     "output_type": "execute_result"
    }
   ],
   "source": [
    "results = (df\n",
    " .text\n",
    " .str.lower()\n",
    " .str.replace(PUNCTUATION, [\" \"]*len(PUNCTUATION), regex=False)\n",
    " .str.replace_tokens(STOPWORDS, \"\")\n",
    " .str.normalize_spaces()\n",
    " .str.tokenize()\n",
    ").value_counts()\n",
    "\n",
    "results.head(10)"
   ]
  },
  {
   "cell_type": "markdown",
   "id": "84b786f1-789e-4c70-8861-c3fe8797b0fc",
   "metadata": {},
   "source": [
    "We've got the most common tokens. What about bigrams or trigrams?"
   ]
  },
  {
   "cell_type": "code",
   "execution_count": 261,
   "id": "716c0df6-6f38-4011-bb98-49df9a613289",
   "metadata": {},
   "outputs": [
    {
     "data": {
      "text/plain": [
       "covid 19                29379\n",
       "coronavirus covid19     14559\n",
       "covid19 coronavirus     13482\n",
       "coronavirus pandemic     6181\n",
       "covidー19 coronavirus     6130\n",
       "covid19 pandemic         6027\n",
       "stay home                5948\n",
       "coronavirus covidー19     4193\n",
       "social distancing        3866\n",
       "new cases                3381\n",
       "Name: text, dtype: int32"
      ]
     },
     "execution_count": 261,
     "metadata": {},
     "output_type": "execute_result"
    }
   ],
   "source": [
    "(df\n",
    " .text\n",
    " .str.lower()\n",
    " .str.replace(PUNCTUATION, [\" \"]*len(PUNCTUATION), regex=False)\n",
    " .str.replace_tokens(STOPWORDS, \"\")\n",
    " .str.normalize_spaces()\n",
    " .str.ngrams_tokenize(n=2, separator=\" \")\n",
    " .value_counts()\n",
    ").head(10)"
   ]
  },
  {
   "cell_type": "markdown",
   "id": "fb2066d3-f695-4ebb-8b93-f9281393a98e",
   "metadata": {},
   "source": [
    "This makes sense. These sound like they could be terms used commonly in hashtags. What about trigrams?"
   ]
  },
  {
   "cell_type": "code",
   "execution_count": 262,
   "id": "9bbb844e-ea96-4cc6-8005-f0222b8b4f09",
   "metadata": {},
   "outputs": [
    {
     "data": {
      "text/plain": [
       "keep safe coronavirus        1995\n",
       "ppe frontline nhs            1981\n",
       "nhs keep safe                1980\n",
       "frontline nhs keep           1978\n",
       "provide ppe frontline        1978\n",
       "govt provide ppe             1967\n",
       "uk govt provide              1966\n",
       "coronavirus covid 19         1866\n",
       "coronavirus sign petition    1791\n",
       "safe coronavirus sign        1761\n",
       "Name: text, dtype: int32"
      ]
     },
     "execution_count": 262,
     "metadata": {},
     "output_type": "execute_result"
    }
   ],
   "source": [
    "(df\n",
    " .text\n",
    " .str.lower()\n",
    " .str.replace(PUNCTUATION, [\" \"]*len(PUNCTUATION), regex=False)\n",
    " .str.replace_tokens(STOPWORDS, \"\")\n",
    " .str.normalize_spaces()\n",
    " .str.ngrams_tokenize(n=3, separator=\" \")\n",
    " .value_counts()\n",
    ").head(10)"
   ]
  },
  {
   "cell_type": "markdown",
   "id": "4d56eef1-86eb-46fd-b706-c5063814d475",
   "metadata": {},
   "source": [
    "RAPIDS provides an immense amount of NLP functionality, and what's particularly powerful is that we can take this into the Dask world."
   ]
  },
  {
   "cell_type": "markdown",
   "id": "3b1ef930-114d-442b-a4c9-715d83f8038a",
   "metadata": {},
   "source": [
    "# Expanding to Larger, More Complex Tasks using Dask\n",
    "\n",
    "Let's touch on the previous example, and then move to something more complex like document search."
   ]
  },
  {
   "cell_type": "code",
   "execution_count": 3,
   "id": "eef549bf-45d3-477c-8cda-c27d06fefc60",
   "metadata": {},
   "outputs": [
    {
     "data": {
      "text/plain": [
       "{'status': 'ok', 'restart': True}"
      ]
     },
     "execution_count": 3,
     "metadata": {},
     "output_type": "execute_result"
    }
   ],
   "source": [
    "import IPython\n",
    "\n",
    "IPython.Application.instance().kernel.do_shutdown(True)"
   ]
  },
  {
   "cell_type": "code",
   "execution_count": 2,
   "id": "7db912ce-2c6c-49b3-97a8-428a83f70ad1",
   "metadata": {},
   "outputs": [],
   "source": [
    "import nltk\n",
    "\n",
    "from dask.distributed import Client\n",
    "import dask.array as da\n",
    "\n",
    "from dask_cuda import LocalCUDACluster\n",
    "import cudf\n",
    "import dask_cudf\n",
    "import cupy as cp\n",
    "\n",
    "from cuml.dask.feature_extraction.text import TfidfTransformer\n",
    "from cuml.feature_extraction.text import HashingVectorizer as CumlHashVect"
   ]
  },
  {
   "cell_type": "code",
   "execution_count": 3,
   "id": "18d3e9b7-fc53-4816-9122-d84427756e79",
   "metadata": {},
   "outputs": [
    {
     "data": {
      "text/html": [
       "<table style=\"border: 2px solid white;\">\n",
       "<tr>\n",
       "<td style=\"vertical-align: top; border: 0px solid white\">\n",
       "<h3 style=\"text-align: left;\">Client</h3>\n",
       "<ul style=\"text-align: left; list-style: none; margin: 0; padding: 0;\">\n",
       "  <li><b>Scheduler: </b>tcp://127.0.0.1:39239</li>\n",
       "  <li><b>Dashboard: </b><a href='http://127.0.0.1:8787/status' target='_blank'>http://127.0.0.1:8787/status</a></li>\n",
       "</ul>\n",
       "</td>\n",
       "<td style=\"vertical-align: top; border: 0px solid white\">\n",
       "<h3 style=\"text-align: left;\">Cluster</h3>\n",
       "<ul style=\"text-align: left; list-style:none; margin: 0; padding: 0;\">\n",
       "  <li><b>Workers: </b>4</li>\n",
       "  <li><b>Cores: </b>4</li>\n",
       "  <li><b>Memory: </b>1.48 TiB</li>\n",
       "</ul>\n",
       "</td>\n",
       "</tr>\n",
       "</table>"
      ],
      "text/plain": [
       "<Client: 'tcp://127.0.0.1:39239' processes=4 threads=4, memory=1.48 TiB>"
      ]
     },
     "execution_count": 3,
     "metadata": {},
     "output_type": "execute_result"
    }
   ],
   "source": [
    "cluster = LocalCUDACluster(\n",
    "    CUDA_VISIBLE_DEVICES=\"0,1,2,3\",\n",
    "    \n",
    ")\n",
    "client = Client(cluster)\n",
    "client"
   ]
  },
  {
   "cell_type": "code",
   "execution_count": 4,
   "id": "7c46a225-8801-46fd-b6b9-78e4e1ad1f3d",
   "metadata": {},
   "outputs": [
    {
     "name": "stdout",
     "output_type": "stream",
     "text": [
      "4827372\n"
     ]
    }
   ],
   "source": [
    "path = \"/raid/vjawa/string_exp/tweets/*.CSV\"\n",
    "df = dask_cudf.read_csv(path)\n",
    "\n",
    "df = df.loc[df.lang == 'en'].persist()\n",
    "print(len(df))"
   ]
  },
  {
   "cell_type": "code",
   "execution_count": 5,
   "id": "92d72eb7-572c-4c4f-80bd-dae249fb6581",
   "metadata": {},
   "outputs": [
    {
     "data": {
      "text/plain": [
       "2     “People are just storing up. They are staying ...\n",
       "6     .@PatriceHarrisMD spoke with @YahooFinance abo...\n",
       "7     First medical team aiding #Wuhan in fight agai...\n",
       "9     .@KathyGriffin: @realDonaldTrump Is 'Lying' Ab...\n",
       "14    #CoronaUpdate | Johns Hopkins University has s...\n",
       "Name: text, dtype: object"
      ]
     },
     "execution_count": 5,
     "metadata": {},
     "output_type": "execute_result"
    }
   ],
   "source": [
    "df['text'].head(5)"
   ]
  },
  {
   "cell_type": "markdown",
   "id": "ef60af9c-4e49-49d3-b6ce-82bade8a5a1d",
   "metadata": {},
   "source": [
    "## Tokenization (Again)\n",
    "\n",
    "We can do all the same processing we did before, this time using all of our GPU power."
   ]
  },
  {
   "cell_type": "code",
   "execution_count": 6,
   "id": "1dc60fa3-77ad-4f6d-b134-40685e74e887",
   "metadata": {},
   "outputs": [],
   "source": [
    "STOPWORDS = nltk.corpus.stopwords.words('english')\n",
    "STOPWORDS += [\"co\", \"https\", \"com\"]\n",
    "\n",
    "PUNCTUATION = [ '!', '\"', '#', '$', '%', '&', '(', ')', '*', '+', '-', '.', '/',  '\\\\', ':', ';', '<', '=', '>',\n",
    "           '?', '@', '[', ']', '^', '_', '`', '{', '|', '}', '\\~', '\\t','\\\\n',\"'\",\",\",'~' , '—']"
   ]
  },
  {
   "cell_type": "code",
   "execution_count": 7,
   "id": "0e30945c-41df-40c6-9db6-3bd97f8b3588",
   "metadata": {},
   "outputs": [
    {
     "name": "stderr",
     "output_type": "stream",
     "text": [
      "/raid/nicholasb/miniconda3/envs/rapids-0.20/lib/python3.8/site-packages/cudf/core/column/string.py:932: UserWarning: `n` parameter is not supported when `pat` and `repl` are list-like inputs\n",
      "  warnings.warn(\n"
     ]
    },
    {
     "data": {
      "text/plain": [
       "covid19        2744517\n",
       "coronavirus    2350495\n",
       "covid           832122\n",
       "19              741327\n",
       "amp             568308\n",
       "people          445454\n",
       "cases           334449\n",
       "us              333554\n",
       "pandemic        328756\n",
       "new             308146\n",
       "Name: text, dtype: int64"
      ]
     },
     "execution_count": 7,
     "metadata": {},
     "output_type": "execute_result"
    }
   ],
   "source": [
    "# Same code, using Dask this time to scale out to unlimited data\n",
    "\n",
    "results = (df\n",
    " .text\n",
    " .str.lower()\n",
    " .str.replace(PUNCTUATION, [\" \"]*len(PUNCTUATION), regex=False)\n",
    " .str.replace_tokens(STOPWORDS, \"\")\n",
    " .str.normalize_spaces()\n",
    " .str.tokenize()\n",
    ").value_counts()\n",
    "\n",
    "results.head(10)"
   ]
  },
  {
   "cell_type": "markdown",
   "id": "9417ca0c-2312-417c-b1fc-4e0f8554a844",
   "metadata": {},
   "source": [
    "## Distributed TF-IDF Based Document Search\n",
    "\n",
    "Now that we know we can do these kinds of NLP operations with Dask, let's build a search tool using TF-IDF that lets us find tweets corresponding to our search query."
   ]
  },
  {
   "cell_type": "code",
   "execution_count": 8,
   "id": "3a6cfce4-2c86-412e-9b6e-cd9b9fe20b67",
   "metadata": {},
   "outputs": [],
   "source": [
    "vectorizer = CumlHashVect(stop_words='english')\n",
    "multi_gpu_transformer = TfidfTransformer()"
   ]
  },
  {
   "cell_type": "markdown",
   "id": "a17d8102-d125-4940-bab9-cfab104a204a",
   "metadata": {},
   "source": [
    "Note that there is a `preprocessor` argument for the HashingVectorizer and it takes a callable. Let's actually redefine this with our own function, using the core logic from above."
   ]
  },
  {
   "cell_type": "code",
   "execution_count": 9,
   "id": "54e51c83-9cc8-4fa7-8501-ac781f4e57cc",
   "metadata": {},
   "outputs": [],
   "source": [
    "def our_preprocessor(s):\n",
    "    processed = (s\n",
    "                .str.lower()\n",
    "                .str.replace(PUNCTUATION, [\" \"]*len(PUNCTUATION), regex=False)\n",
    "                .str.replace_tokens(STOPWORDS, \"\")\n",
    "                .str.normalize_spaces()\n",
    "                )\n",
    "    return processed\n",
    "\n",
    "vectorizer = CumlHashVect(stop_words='english', preprocessor=our_preprocessor)"
   ]
  },
  {
   "cell_type": "code",
   "execution_count": 10,
   "id": "49c1c9b4-3d39-45de-8a7e-8060a2a27745",
   "metadata": {},
   "outputs": [
    {
     "data": {
      "text/html": [
       "<table>\n",
       "<tr>\n",
       "<td>\n",
       "<table>\n",
       "  <thead>\n",
       "    <tr><td> </td><th> Array </th><th> Chunk </th></tr>\n",
       "  </thead>\n",
       "  <tbody>\n",
       "    <tr><th> Bytes </th><td> 18.41 TiB </td> <td> 1.44 TiB </td></tr>\n",
       "    <tr><th> Shape </th><td> (4827372, 1048576) </td> <td> (378267, 1048576) </td></tr>\n",
       "    <tr><th> Count </th><td> 18 Tasks </td><td> 18 Chunks </td></tr>\n",
       "    <tr><th> Type </th><td> float32 </td><td> numpy.ndarray </td></tr>\n",
       "  </tbody>\n",
       "</table>\n",
       "</td>\n",
       "<td>\n",
       "<svg width=\"92\" height=\"170\" style=\"stroke:rgb(0,0,0);stroke-width:1\" >\n",
       "\n",
       "  <!-- Horizontal lines -->\n",
       "  <line x1=\"0\" y1=\"0\" x2=\"42\" y2=\"0\" style=\"stroke-width:2\" />\n",
       "  <line x1=\"0\" y1=\"7\" x2=\"42\" y2=\"7\" />\n",
       "  <line x1=\"0\" y1=\"15\" x2=\"42\" y2=\"15\" />\n",
       "  <line x1=\"0\" y1=\"24\" x2=\"42\" y2=\"24\" />\n",
       "  <line x1=\"0\" y1=\"33\" x2=\"42\" y2=\"33\" />\n",
       "  <line x1=\"0\" y1=\"41\" x2=\"42\" y2=\"41\" />\n",
       "  <line x1=\"0\" y1=\"49\" x2=\"42\" y2=\"49\" />\n",
       "  <line x1=\"0\" y1=\"55\" x2=\"42\" y2=\"55\" />\n",
       "  <line x1=\"0\" y1=\"61\" x2=\"42\" y2=\"61\" />\n",
       "  <line x1=\"0\" y1=\"70\" x2=\"42\" y2=\"70\" />\n",
       "  <line x1=\"0\" y1=\"76\" x2=\"42\" y2=\"76\" />\n",
       "  <line x1=\"0\" y1=\"83\" x2=\"42\" y2=\"83\" />\n",
       "  <line x1=\"0\" y1=\"90\" x2=\"42\" y2=\"90\" />\n",
       "  <line x1=\"0\" y1=\"96\" x2=\"42\" y2=\"96\" />\n",
       "  <line x1=\"0\" y1=\"100\" x2=\"42\" y2=\"100\" />\n",
       "  <line x1=\"0\" y1=\"103\" x2=\"42\" y2=\"103\" />\n",
       "  <line x1=\"0\" y1=\"107\" x2=\"42\" y2=\"107\" />\n",
       "  <line x1=\"0\" y1=\"113\" x2=\"42\" y2=\"113\" />\n",
       "  <line x1=\"0\" y1=\"120\" x2=\"42\" y2=\"120\" style=\"stroke-width:2\" />\n",
       "\n",
       "  <!-- Vertical lines -->\n",
       "  <line x1=\"0\" y1=\"0\" x2=\"0\" y2=\"120\" style=\"stroke-width:2\" />\n",
       "  <line x1=\"42\" y1=\"0\" x2=\"42\" y2=\"120\" style=\"stroke-width:2\" />\n",
       "\n",
       "  <!-- Colored Rectangle -->\n",
       "  <polygon points=\"0.0,0.0 42.351446012507544,0.0 42.351446012507544,120.0 0.0,120.0\" style=\"fill:#ECB172A0;stroke-width:0\"/>\n",
       "\n",
       "  <!-- Text -->\n",
       "  <text x=\"21.175723\" y=\"140.000000\" font-size=\"1.0rem\" font-weight=\"100\" text-anchor=\"middle\" >1048576</text>\n",
       "  <text x=\"62.351446\" y=\"60.000000\" font-size=\"1.0rem\" font-weight=\"100\" text-anchor=\"middle\" transform=\"rotate(-90,62.351446,60.000000)\">4827372</text>\n",
       "</svg>\n",
       "</td>\n",
       "</tr>\n",
       "</table>"
      ],
      "text/plain": [
       "dask.array<fit_transform, shape=(4827372, 1048576), dtype=float32, chunksize=(378267, 1048576), chunktype=numpy.ndarray>"
      ]
     },
     "execution_count": 10,
     "metadata": {},
     "output_type": "execute_result"
    }
   ],
   "source": [
    "meta = da.from_array(cp.sparse.csr_matrix(cp.zeros(1, dtype=cp.float32)))\n",
    "X = df[\"text\"].map_partitions(vectorizer.fit_transform, meta=meta).astype(cp.float32)\n",
    "X = X.persist()\n",
    "X.compute_chunk_sizes()"
   ]
  },
  {
   "cell_type": "code",
   "execution_count": 11,
   "id": "e1f8759e-3c87-4ac9-8619-648cdc8d66f6",
   "metadata": {},
   "outputs": [
    {
     "name": "stdout",
     "output_type": "stream",
     "text": [
      "[I] [09:08:26.630553] [Delayed('_merge_stats_to_model-69103aae-1dfc-4d20-a10a-586f1437f4fd')]\n",
      "[I] [09:08:26.633220] [Delayed('_merge_stats_to_model-fd49d712-627f-4fe2-b820-c5c31de4ba7e')]\n",
      "[I] [09:08:26.634659] [Delayed('_merge_stats_to_model-059176a8-7c15-4ff2-b55c-e78b1316b230')]\n",
      "[I] [09:08:26.636136] [Delayed('_merge_stats_to_model-80cd2d5c-f960-402c-9a20-449ee0811fe7')]\n",
      "[I] [09:08:26.777757] [<Future: finished, type: cuml.TfidfTransformer, key: _merge_stats_to_model-69103aae-1dfc-4d20-a10a-586f1437f4fd>]\n",
      "[I] [09:08:26.777856] [<Future: finished, type: cuml.TfidfTransformer, key: _merge_stats_to_model-fd49d712-627f-4fe2-b820-c5c31de4ba7e>]\n",
      "[I] [09:08:26.778428] [<Future: finished, type: cuml.TfidfTransformer, key: _merge_stats_to_model-059176a8-7c15-4ff2-b55c-e78b1316b230>]\n",
      "[I] [09:08:26.778530] [<Future: finished, type: cuml.TfidfTransformer, key: _merge_stats_to_model-80cd2d5c-f960-402c-9a20-449ee0811fe7>]\n",
      "[I] [09:08:26.781680] [Delayed('_merge_stats_to_model-07c3c5b0-effa-4a1e-ba22-03aeac093d32')]\n"
     ]
    },
    {
     "data": {
      "text/html": [
       "<table>\n",
       "<tr>\n",
       "<td>\n",
       "<table>\n",
       "  <thead>\n",
       "    <tr><td> </td><th> Array </th><th> Chunk </th></tr>\n",
       "  </thead>\n",
       "  <tbody>\n",
       "    <tr><th> Bytes </th><td> 18.41 TiB </td> <td> 1.44 TiB </td></tr>\n",
       "    <tr><th> Shape </th><td> (4827372, 1048576) </td> <td> (378267, 1048576) </td></tr>\n",
       "    <tr><th> Count </th><td> 18 Tasks </td><td> 18 Chunks </td></tr>\n",
       "    <tr><th> Type </th><td> float32 </td><td> cupy.ndarray </td></tr>\n",
       "  </tbody>\n",
       "</table>\n",
       "</td>\n",
       "<td>\n",
       "<svg width=\"92\" height=\"170\" style=\"stroke:rgb(0,0,0);stroke-width:1\" >\n",
       "\n",
       "  <!-- Horizontal lines -->\n",
       "  <line x1=\"0\" y1=\"0\" x2=\"42\" y2=\"0\" style=\"stroke-width:2\" />\n",
       "  <line x1=\"0\" y1=\"7\" x2=\"42\" y2=\"7\" />\n",
       "  <line x1=\"0\" y1=\"15\" x2=\"42\" y2=\"15\" />\n",
       "  <line x1=\"0\" y1=\"24\" x2=\"42\" y2=\"24\" />\n",
       "  <line x1=\"0\" y1=\"33\" x2=\"42\" y2=\"33\" />\n",
       "  <line x1=\"0\" y1=\"41\" x2=\"42\" y2=\"41\" />\n",
       "  <line x1=\"0\" y1=\"49\" x2=\"42\" y2=\"49\" />\n",
       "  <line x1=\"0\" y1=\"55\" x2=\"42\" y2=\"55\" />\n",
       "  <line x1=\"0\" y1=\"61\" x2=\"42\" y2=\"61\" />\n",
       "  <line x1=\"0\" y1=\"70\" x2=\"42\" y2=\"70\" />\n",
       "  <line x1=\"0\" y1=\"76\" x2=\"42\" y2=\"76\" />\n",
       "  <line x1=\"0\" y1=\"83\" x2=\"42\" y2=\"83\" />\n",
       "  <line x1=\"0\" y1=\"90\" x2=\"42\" y2=\"90\" />\n",
       "  <line x1=\"0\" y1=\"96\" x2=\"42\" y2=\"96\" />\n",
       "  <line x1=\"0\" y1=\"100\" x2=\"42\" y2=\"100\" />\n",
       "  <line x1=\"0\" y1=\"103\" x2=\"42\" y2=\"103\" />\n",
       "  <line x1=\"0\" y1=\"107\" x2=\"42\" y2=\"107\" />\n",
       "  <line x1=\"0\" y1=\"113\" x2=\"42\" y2=\"113\" />\n",
       "  <line x1=\"0\" y1=\"120\" x2=\"42\" y2=\"120\" style=\"stroke-width:2\" />\n",
       "\n",
       "  <!-- Vertical lines -->\n",
       "  <line x1=\"0\" y1=\"0\" x2=\"0\" y2=\"120\" style=\"stroke-width:2\" />\n",
       "  <line x1=\"42\" y1=\"0\" x2=\"42\" y2=\"120\" style=\"stroke-width:2\" />\n",
       "\n",
       "  <!-- Colored Rectangle -->\n",
       "  <polygon points=\"0.0,0.0 42.351446012507544,0.0 42.351446012507544,120.0 0.0,120.0\" style=\"fill:#ECB172A0;stroke-width:0\"/>\n",
       "\n",
       "  <!-- Text -->\n",
       "  <text x=\"21.175723\" y=\"140.000000\" font-size=\"1.0rem\" font-weight=\"100\" text-anchor=\"middle\" >1048576</text>\n",
       "  <text x=\"62.351446\" y=\"60.000000\" font-size=\"1.0rem\" font-weight=\"100\" text-anchor=\"middle\" transform=\"rotate(-90,62.351446,60.000000)\">4827372</text>\n",
       "</svg>\n",
       "</td>\n",
       "</tr>\n",
       "</table>"
      ],
      "text/plain": [
       "dask.array<concatenate, shape=(4827372, 1048576), dtype=float32, chunksize=(378267, 1048576), chunktype=cupy.ndarray>"
      ]
     },
     "execution_count": 11,
     "metadata": {},
     "output_type": "execute_result"
    }
   ],
   "source": [
    "X_transformed = multi_gpu_transformer.fit_transform(X).persist()\n",
    "X_transformed.compute_chunk_sizes()"
   ]
  },
  {
   "cell_type": "markdown",
   "id": "45f10e07-611a-472a-bb62-4c03b238e2b0",
   "metadata": {},
   "source": [
    "For simplicity, we'll collect our corpus and sparse tf-idf matrix to a single GPU and use the Dask multi-GPU vectorizer. This is not the most optimized approach, but it's simple and easy to walk through."
   ]
  },
  {
   "cell_type": "code",
   "execution_count": 12,
   "id": "09ec5efc-9c8a-468d-9d18-24e64bf23379",
   "metadata": {},
   "outputs": [],
   "source": [
    "corpus = df[[\"text\", \"status_id\"]].compute()\n",
    "X_transformed_singlegpu = X_transformed.compute()"
   ]
  },
  {
   "cell_type": "markdown",
   "id": "4f2161b1-732e-4522-b4b1-a7d633015511",
   "metadata": {},
   "source": [
    "Using cuML's NearestNeighbors we can calculate the most similar records using Cosine Similarity on the sparse tf-idf matrix."
   ]
  },
  {
   "cell_type": "code",
   "execution_count": 13,
   "id": "3da6f93a-9171-4a8d-8211-e497a91156e6",
   "metadata": {},
   "outputs": [],
   "source": [
    "from cuml.neighbors import NearestNeighbors\n",
    "\n",
    "nn = NearestNeighbors(n_neighbors=5, metric=\"cosine\")\n",
    "nn.fit(X_transformed_singlegpu)\n",
    "\n",
    "def search(haystack, needle):\n",
    "    query_vector = vectorizer.transform(cudf.Series(needle))\n",
    "    distances, indices = nn.kneighbors(query_vector)\n",
    "    return haystack.iloc[indices.ravel()]"
   ]
  },
  {
   "cell_type": "code",
   "execution_count": 14,
   "id": "8fa91552-da13-4c7d-86b0-e28847265c46",
   "metadata": {},
   "outputs": [
    {
     "name": "stderr",
     "output_type": "stream",
     "text": [
      "/raid/nicholasb/miniconda3/envs/rapids-0.20/lib/python3.8/site-packages/cudf/core/column/string.py:932: UserWarning: `n` parameter is not supported when `pat` and `repl` are list-like inputs\n",
      "  warnings.warn(\n"
     ]
    },
    {
     "data": {
      "text/html": [
       "<div>\n",
       "<style scoped>\n",
       "    .dataframe tbody tr th:only-of-type {\n",
       "        vertical-align: middle;\n",
       "    }\n",
       "\n",
       "    .dataframe tbody tr th {\n",
       "        vertical-align: top;\n",
       "    }\n",
       "\n",
       "    .dataframe thead th {\n",
       "        text-align: right;\n",
       "    }\n",
       "</style>\n",
       "<table border=\"1\" class=\"dataframe\">\n",
       "  <thead>\n",
       "    <tr style=\"text-align: right;\">\n",
       "      <th></th>\n",
       "      <th>text</th>\n",
       "      <th>status_id</th>\n",
       "    </tr>\n",
       "  </thead>\n",
       "  <tbody>\n",
       "    <tr>\n",
       "      <th>229594</th>\n",
       "      <td>Nvidia and IBM provide further AI solutions to...</td>\n",
       "      <td>1247496980529586177</td>\n",
       "    </tr>\n",
       "    <tr>\n",
       "      <th>233595</th>\n",
       "      <td>Nvidia and IBM provide further AI solutions to...</td>\n",
       "      <td>1247500757982724098</td>\n",
       "    </tr>\n",
       "    <tr>\n",
       "      <th>404210</th>\n",
       "      <td>NVIDIA Brings GPU, HPC and AI Expertise to COV...</td>\n",
       "      <td>1247217527362478080</td>\n",
       "    </tr>\n",
       "    <tr>\n",
       "      <th>420528</th>\n",
       "      <td>Yes! #STEM in action, #NVIDIA assisting in sci...</td>\n",
       "      <td>1247224492826464257</td>\n",
       "    </tr>\n",
       "    <tr>\n",
       "      <th>134358</th>\n",
       "      <td>NVIDIA is contributing its AI smarts to help f...</td>\n",
       "      <td>1247427803836035074</td>\n",
       "    </tr>\n",
       "  </tbody>\n",
       "</table>\n",
       "</div>"
      ],
      "text/plain": [
       "                                                     text            status_id\n",
       "229594  Nvidia and IBM provide further AI solutions to...  1247496980529586177\n",
       "233595  Nvidia and IBM provide further AI solutions to...  1247500757982724098\n",
       "404210  NVIDIA Brings GPU, HPC and AI Expertise to COV...  1247217527362478080\n",
       "420528  Yes! #STEM in action, #NVIDIA assisting in sci...  1247224492826464257\n",
       "134358  NVIDIA is contributing its AI smarts to help f...  1247427803836035074"
      ]
     },
     "execution_count": 14,
     "metadata": {},
     "output_type": "execute_result"
    }
   ],
   "source": [
    "search(corpus, \"NVIDIA AI\")"
   ]
  },
  {
   "cell_type": "code",
   "execution_count": 15,
   "id": "9a6eecbe-4298-4411-a201-99a80bebf0c4",
   "metadata": {},
   "outputs": [
    {
     "name": "stderr",
     "output_type": "stream",
     "text": [
      "/raid/nicholasb/miniconda3/envs/rapids-0.20/lib/python3.8/site-packages/cudf/core/column/string.py:932: UserWarning: `n` parameter is not supported when `pat` and `repl` are list-like inputs\n",
      "  warnings.warn(\n"
     ]
    },
    {
     "data": {
      "text/html": [
       "<div>\n",
       "<style scoped>\n",
       "    .dataframe tbody tr th:only-of-type {\n",
       "        vertical-align: middle;\n",
       "    }\n",
       "\n",
       "    .dataframe tbody tr th {\n",
       "        vertical-align: top;\n",
       "    }\n",
       "\n",
       "    .dataframe thead th {\n",
       "        text-align: right;\n",
       "    }\n",
       "</style>\n",
       "<table border=\"1\" class=\"dataframe\">\n",
       "  <thead>\n",
       "    <tr style=\"text-align: right;\">\n",
       "      <th></th>\n",
       "      <th>text</th>\n",
       "      <th>status_id</th>\n",
       "    </tr>\n",
       "  </thead>\n",
       "  <tbody>\n",
       "    <tr>\n",
       "      <th>374874</th>\n",
       "      <td>Distributed computing for #COVID19 https://t.c...</td>\n",
       "      <td>1246135241712041988</td>\n",
       "    </tr>\n",
       "    <tr>\n",
       "      <th>352253</th>\n",
       "      <td>If you have spare computing power, this is a w...</td>\n",
       "      <td>1246500181635477507</td>\n",
       "    </tr>\n",
       "    <tr>\n",
       "      <th>165023</th>\n",
       "      <td>We've all developed computing infrastructure i...</td>\n",
       "      <td>1249742404342575104</td>\n",
       "    </tr>\n",
       "    <tr>\n",
       "      <th>443602</th>\n",
       "      <td>In an effort to help in the #coronavirus crisi...</td>\n",
       "      <td>1244700923739418626</td>\n",
       "    </tr>\n",
       "    <tr>\n",
       "      <th>254327</th>\n",
       "      <td>Proud to be the part of @foldingathome #distri...</td>\n",
       "      <td>1248251854636515331</td>\n",
       "    </tr>\n",
       "  </tbody>\n",
       "</table>\n",
       "</div>"
      ],
      "text/plain": [
       "                                                     text            status_id\n",
       "374874  Distributed computing for #COVID19 https://t.c...  1246135241712041988\n",
       "352253  If you have spare computing power, this is a w...  1246500181635477507\n",
       "165023  We've all developed computing infrastructure i...  1249742404342575104\n",
       "443602  In an effort to help in the #coronavirus crisi...  1244700923739418626\n",
       "254327  Proud to be the part of @foldingathome #distri...  1248251854636515331"
      ]
     },
     "execution_count": 15,
     "metadata": {},
     "output_type": "execute_result"
    }
   ],
   "source": [
    "search(corpus, \"distributed computing\")"
   ]
  },
  {
   "cell_type": "code",
   "execution_count": 16,
   "id": "0878ff39-a117-4a81-88bb-b68c6c8db03a",
   "metadata": {},
   "outputs": [
    {
     "name": "stderr",
     "output_type": "stream",
     "text": [
      "/raid/nicholasb/miniconda3/envs/rapids-0.20/lib/python3.8/site-packages/cudf/core/column/string.py:932: UserWarning: `n` parameter is not supported when `pat` and `repl` are list-like inputs\n",
      "  warnings.warn(\n"
     ]
    },
    {
     "data": {
      "text/html": [
       "<div>\n",
       "<style scoped>\n",
       "    .dataframe tbody tr th:only-of-type {\n",
       "        vertical-align: middle;\n",
       "    }\n",
       "\n",
       "    .dataframe tbody tr th {\n",
       "        vertical-align: top;\n",
       "    }\n",
       "\n",
       "    .dataframe thead th {\n",
       "        text-align: right;\n",
       "    }\n",
       "</style>\n",
       "<table border=\"1\" class=\"dataframe\">\n",
       "  <thead>\n",
       "    <tr style=\"text-align: right;\">\n",
       "      <th></th>\n",
       "      <th>text</th>\n",
       "      <th>status_id</th>\n",
       "    </tr>\n",
       "  </thead>\n",
       "  <tbody>\n",
       "    <tr>\n",
       "      <th>36738</th>\n",
       "      <td>How To Track Coronavirus In Your Country with ...</td>\n",
       "      <td>1248813665484079104</td>\n",
       "    </tr>\n",
       "    <tr>\n",
       "      <th>37296</th>\n",
       "      <td>How To Track Coronavirus In Your Country with ...</td>\n",
       "      <td>1248814560133300224</td>\n",
       "    </tr>\n",
       "    <tr>\n",
       "      <th>491122</th>\n",
       "      <td>How To Track COVID-19 Cases in the United Stat...</td>\n",
       "      <td>1248007352080404482</td>\n",
       "    </tr>\n",
       "    <tr>\n",
       "      <th>397256</th>\n",
       "      <td>I am offering FREE course of Python Programmin...</td>\n",
       "      <td>1246532658210852864</td>\n",
       "    </tr>\n",
       "    <tr>\n",
       "      <th>23752</th>\n",
       "      <td>Real-World Programming for Kids with Python - ...</td>\n",
       "      <td>1246971643425181704</td>\n",
       "    </tr>\n",
       "  </tbody>\n",
       "</table>\n",
       "</div>"
      ],
      "text/plain": [
       "                                                     text            status_id\n",
       "36738   How To Track Coronavirus In Your Country with ...  1248813665484079104\n",
       "37296   How To Track Coronavirus In Your Country with ...  1248814560133300224\n",
       "491122  How To Track COVID-19 Cases in the United Stat...  1248007352080404482\n",
       "397256  I am offering FREE course of Python Programmin...  1246532658210852864\n",
       "23752   Real-World Programming for Kids with Python - ...  1246971643425181704"
      ]
     },
     "execution_count": 16,
     "metadata": {},
     "output_type": "execute_result"
    }
   ],
   "source": [
    "search(corpus, \"python programming gpu\")"
   ]
  },
  {
   "cell_type": "markdown",
   "id": "df85229c-f84c-49a8-ba03-01e5c7fd4e6d",
   "metadata": {},
   "source": [
    "We've only scratched the surface of the NLP capabilities that Dask and RAPIDS make possible. We encourage you to look at the [RAPIDS](https://docs.rapids.ai/) and [Dask](https://docs.dask.org/en/latest/) documentation to learn more!"
   ]
  },
  {
   "cell_type": "code",
   "execution_count": null,
   "id": "b998d88d-82c6-43cd-ae48-de9d1b2a6255",
   "metadata": {},
   "outputs": [],
   "source": []
  }
 ],
 "metadata": {
  "kernelspec": {
   "display_name": "Python 3",
   "language": "python",
   "name": "python3"
  },
  "language_info": {
   "codemirror_mode": {
    "name": "ipython",
    "version": 3
   },
   "file_extension": ".py",
   "mimetype": "text/x-python",
   "name": "python",
   "nbconvert_exporter": "python",
   "pygments_lexer": "ipython3",
   "version": "3.8.10"
  }
 },
 "nbformat": 4,
 "nbformat_minor": 5
}
