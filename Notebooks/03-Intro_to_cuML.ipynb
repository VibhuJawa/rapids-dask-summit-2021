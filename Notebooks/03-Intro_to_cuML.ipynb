{
 "cells": [
  {
   "cell_type": "markdown",
   "id": "4df964b5-7909-466a-ab66-4b43801e55c8",
   "metadata": {},
   "source": [
    "# Introduction to cuML\n",
    "\n",
    "What is cuML?"
   ]
  },
  {
   "cell_type": "markdown",
   "id": "49ba0e05-b26e-45a8-9e72-c8797e14de05",
   "metadata": {},
   "source": [
    "## Introduction and key concepts\n",
    "\n",
    "cuML accelerates machine learning on GPUs. The library follows a couple of key principals, and understanding these will help you take full advantage cuML.\n",
    "\n",
    "### 1. Where possible, match the scikit-learn API\n",
    "\n",
    "cuML estimators look and feel just like scikit-learn estimators. You initialize them with key parameters, fit them with a fit method, then call predict or transform for inference.\n",
    "\n",
    "### 2. Accept flexible input types, return predictable output types\n",
    "\n",
    "cuML estimators can accept NumPy arrays, cuDF dataframes, cuPy arrays, 2d PyTorch tensors, and really any kind of standards-based Python array input you can throw at them.\n",
    "\n",
    "By default, outputs will mirror the data type you provided.\n",
    "\n",
    "### 3. Be fast!\n",
    "\n",
    "On a modern GPU, these can exceed the performance of CPU-based equivalents by a factor of anything from 4x (for a medium-sized linear regression) to over 1000x (for large-scale tSNE dimensionality reduction). In many cases, performance advantages appear as the dataset grows."
   ]
  },
  {
   "cell_type": "markdown",
   "id": "08fb3bc0-e22d-48e3-bfd8-5326286ecba9",
   "metadata": {},
   "source": [
    "## cuML vs Scikit-Learn"
   ]
  },
  {
   "cell_type": "code",
   "execution_count": null,
   "id": "bd0b6845-dc8d-41ef-8fbd-0ff671c33987",
   "metadata": {},
   "outputs": [],
   "source": []
  },
  {
   "cell_type": "markdown",
   "id": "e3d7b082-fe3d-4689-8223-6f0f7b798c73",
   "metadata": {},
   "source": [
    "## cuML Estimators"
   ]
  },
  {
   "cell_type": "markdown",
   "id": "7b07b1cd-d0b1-4b42-b36d-0f42620a5313",
   "metadata": {},
   "source": [
    "This notebook provides an overview of several machine learning estimators in cuML, demonstrating how to train and evaluate them with built-in metrics functions. For more in depth information and examples, please refer to the documentation."
   ]
  },
  {
   "cell_type": "code",
   "execution_count": 121,
   "id": "2f38a04c-58ca-4272-9e60-6bd3c4fd3890",
   "metadata": {},
   "outputs": [],
   "source": [
    "import cudf\n",
    "import cuml\n",
    "from cuml.svm import SVC\n",
    "from cuml.preprocessing import StandardScaler, PolynomialFeatures\n",
    "from cuml.model_selection import train_test_split\n",
    "from cuml.datasets import make_classification\n",
    "\n",
    "NFEATURES = 20\n",
    "\n",
    "X, y = make_classification(\n",
    "    n_samples=100000,\n",
    "    n_features=NFEATURES,\n",
    "    n_informative=NFEATURES,\n",
    "    n_redundant=0,\n",
    "    n_classes=2,\n",
    "    class_sep=0.01,\n",
    "    random_state=0\n",
    ")\n",
    "\n",
    "X_train, X_test, y_train, y_test = train_test_split(X, y,\n",
    "                                                    random_state=0)"
   ]
  },
  {
   "cell_type": "markdown",
   "id": "f5675f19-401b-4cc9-b9b5-4f704e34ffda",
   "metadata": {},
   "source": [
    "### Regressors"
   ]
  },
  {
   "cell_type": "code",
   "execution_count": null,
   "id": "21265a3d-1e04-414a-a405-ef48e85aa29a",
   "metadata": {},
   "outputs": [],
   "source": []
  },
  {
   "cell_type": "markdown",
   "id": "dc6018ce-8b9a-42e5-85ab-85d213c5b1d8",
   "metadata": {},
   "source": [
    "### Classifiers"
   ]
  },
  {
   "cell_type": "code",
   "execution_count": 86,
   "id": "7b399994-07fa-442b-92ad-74e681270c26",
   "metadata": {},
   "outputs": [
    {
     "name": "stdout",
     "output_type": "stream",
     "text": [
      "0.5044000148773193\n",
      "[-0.00013668 -0.0040487   0.00017586 -0.00540551 -0.00147197 -0.00204108\n",
      "  0.00046605  0.00248705  0.0037112   0.00328126  0.00025797  0.00146517\n",
      "  0.00565837 -0.00182544  0.00371502 -0.001151   -0.00102958  0.00103293\n",
      " -0.00349904 -0.00844826]\n"
     ]
    }
   ],
   "source": [
    "clf = cuml.linear_model.LogisticRegression()\n",
    "clf.fit(X_train, y_train)\n",
    "print(clf.score(X_test, y_test))\n",
    "print(clf.coef_.ravel())"
   ]
  },
  {
   "cell_type": "code",
   "execution_count": 92,
   "id": "d0e5f989-3fea-490d-a3b7-183a463860b4",
   "metadata": {},
   "outputs": [
    {
     "name": "stdout",
     "output_type": "stream",
     "text": [
      "[E] [09:28:56.829869] QWL-QN line search failed\n",
      "0.5035600066184998\n",
      "[-0.00010016 -0.00403982  0.00014952 -0.00536854 -0.00146793 -0.00205053\n",
      "  0.000467    0.00254936  0.00367489  0.00327556  0.00027593  0.00140943\n",
      "  0.00564877 -0.00188041  0.00372037 -0.001163   -0.00100568  0.00103245\n",
      " -0.00349095 -0.00846354]\n"
     ]
    }
   ],
   "source": [
    "clf = cuml.linear_model.LogisticRegression(penalty=\"l1\")\n",
    "clf.fit(X_train, y_train)\n",
    "print(clf.score(X_test, y_test))\n",
    "print(clf.coef_.ravel())"
   ]
  },
  {
   "cell_type": "code",
   "execution_count": 98,
   "id": "5bcaa91c-26f4-4e47-a69c-f23062720070",
   "metadata": {},
   "outputs": [
    {
     "name": "stdout",
     "output_type": "stream",
     "text": [
      "0.9712399840354919\n"
     ]
    }
   ],
   "source": [
    "clf = cuml.neighbors.KNeighborsClassifier(n_neighbors=5)\n",
    "clf.fit(X_train, y_train)\n",
    "print(clf.score(X_test, y_test))"
   ]
  },
  {
   "cell_type": "code",
   "execution_count": 99,
   "id": "bae7ba6a-77cd-47af-a790-ea801d43d488",
   "metadata": {},
   "outputs": [
    {
     "name": "stdout",
     "output_type": "stream",
     "text": [
      "0.9761199951171875\n"
     ]
    }
   ],
   "source": [
    "clf = cuml.neighbors.KNeighborsClassifier(n_neighbors=10)\n",
    "clf.fit(X_train, y_train)\n",
    "print(clf.score(X_test, y_test))"
   ]
  },
  {
   "cell_type": "code",
   "execution_count": 101,
   "id": "7a0170ae-1039-4004-b262-f534c01cc0f9",
   "metadata": {},
   "outputs": [
    {
     "name": "stdout",
     "output_type": "stream",
     "text": [
      "0.9762799739837646\n"
     ]
    }
   ],
   "source": [
    "clf = cuml.svm.SVC()\n",
    "clf.fit(X_train, y_train)\n",
    "print(clf.score(X_test, y_test))"
   ]
  },
  {
   "cell_type": "code",
   "execution_count": 103,
   "id": "3752e3c1-c7c3-496f-8556-d5b3ce16f0bb",
   "metadata": {},
   "outputs": [
    {
     "name": "stdout",
     "output_type": "stream",
     "text": [
      "0.9816399812698364\n"
     ]
    }
   ],
   "source": [
    "clf = cuml.svm.SVC(C=10)\n",
    "clf.fit(X_train, y_train)\n",
    "print(clf.score(X_test, y_test))"
   ]
  },
  {
   "cell_type": "markdown",
   "id": "951fbce7-deeb-4ec5-a77e-6d35bcf992f3",
   "metadata": {},
   "source": [
    "### Clusterers"
   ]
  },
  {
   "cell_type": "code",
   "execution_count": 110,
   "id": "0c2d9417-ff02-4878-8ebc-950a6989eb4f",
   "metadata": {},
   "outputs": [
    {
     "name": "stdout",
     "output_type": "stream",
     "text": [
      "labels:\n",
      "[3 1 7 ... 5 3 7]\n",
      "cluster_centers:\n",
      "[[-1.2001286   0.2915472   0.73022574 -1.4476534   0.12419276  0.6032779\n",
      "  -1.3671764   0.4796237  -1.2630613  -1.9679332  -0.05651553  1.1516273\n",
      "   0.0911471  -0.47311252 -0.07382447 -0.40850422  1.1987472   1.3432238\n",
      "  -1.3668767  -0.67849404]\n",
      " [ 1.1188177  -0.36091506 -0.05150037  1.4357436   0.7456412  -1.5450572\n",
      "   2.1083956  -0.0056184  -0.4879958   0.5860339   0.93496215  1.467241\n",
      "  -2.200274    0.0739655  -0.98056763 -0.82171    -1.1563358  -1.5384593\n",
      "  -0.29150116 -0.17171538]\n",
      " [ 0.3375449  -1.3611176   1.5672036  -0.33588976  0.44241628  1.1863414\n",
      "  -0.54662424 -0.86296666  0.53161645 -0.9384144   0.362147   -0.87245566\n",
      "  -1.7132689  -1.983615    1.2805843   0.49160016 -0.97978216  0.17033358\n",
      "  -1.10449     3.1581523 ]\n",
      " [ 1.4229035  -1.0691209  -0.19737092 -1.6390495   1.2999135   0.8948438\n",
      "   0.26133105  2.3867197   0.18294281  1.8707604   0.577021    1.6806108\n",
      "   0.9930441  -0.68840504 -2.0330095   1.0724192   0.93112355  1.0622234\n",
      "   1.4207226   0.42368424]\n",
      " [-1.4086229   1.0291364   0.19468786  1.7716762  -1.2262833  -0.9897202\n",
      "  -0.36668614 -2.421113   -0.10510889 -1.9155838  -0.41596562 -1.9303728\n",
      "  -0.81936604  0.65435195  1.9140441  -0.9478797  -0.96396154 -1.0363158\n",
      "  -1.3192524  -0.44761592]\n",
      " [-1.1674993  -0.84595025 -1.2518798   0.08544756 -1.1212955   2.055232\n",
      "   0.06480454 -0.44145545  0.70465666  0.58319163  1.2239017   0.35441533\n",
      "   0.02236562  0.57232606  1.4700004  -0.6843747   0.12720397 -1.7587025\n",
      "   1.4935832   0.6169889 ]\n",
      " [-0.45676103  1.2769272  -1.4195553   0.29856718 -0.4028109  -1.2924105\n",
      "   0.579286    0.9379486  -0.5262073   0.8028547  -0.36719114  0.7036913\n",
      "   1.8309368   2.306485   -1.4597583  -0.45644253  1.165577    0.2796472\n",
      "   1.1251006  -3.1150231 ]\n",
      " [ 1.5229373   0.91738576  0.2743801   0.2293075   0.33906293 -1.2107806\n",
      "  -0.20662385 -0.10694189  0.8010079   1.1009754  -1.9269949  -2.1500938\n",
      "   1.2696273  -0.28703994 -0.3944517   1.395816   -0.60818917  0.8865826\n",
      "   0.08229478  0.04748017]]\n"
     ]
    }
   ],
   "source": [
    "kmeans = cuml.cluster.KMeans()\n",
    "kmeans.fit(X_train)\n",
    "\n",
    "print(\"labels:\")\n",
    "print(kmeans.labels_)\n",
    "print(\"cluster_centers:\")\n",
    "print(kmeans.cluster_centers_)"
   ]
  },
  {
   "cell_type": "markdown",
   "id": "d6a7e56f-e07f-44b7-b547-729e2c18912c",
   "metadata": {},
   "source": [
    "### Dimensionality Reduction"
   ]
  },
  {
   "cell_type": "code",
   "execution_count": 119,
   "id": "ef36e95f-4f5e-4e16-a1ae-e659fcc7dda6",
   "metadata": {},
   "outputs": [
    {
     "name": "stdout",
     "output_type": "stream",
     "text": [
      "Components: [[-0.22738276 -0.04777836  0.12365042  0.15176034 -0.13479295  0.11212273\n",
      "  -0.09851787 -0.4067749   0.01762475 -0.35134166  0.0454287  -0.23628762\n",
      "  -0.31318912 -0.10454161  0.4274099  -0.1378494  -0.18946336 -0.2125933\n",
      "  -0.24190477  0.26424477]\n",
      " [ 0.01717635  0.32100588 -0.13514338  0.38807714 -0.13682115 -0.46206656\n",
      "   0.10881904 -0.23131591  0.0594103   0.05421089 -0.1797142  -0.3431435\n",
      "   0.15159144  0.26999882  0.0112941  -0.04975148 -0.07820843 -0.10089543\n",
      "  -0.02100286 -0.39810154]]\n",
      "Explained variance: [13.981019 11.280637]\n",
      "Explained variance ratio: [0.10451543 0.08432865]\n",
      "Singular values: [1023.99335  919.8024 ]\n",
      "Mean: [ 0.00325871  0.00313095 -0.00831611 -0.00489904  0.01347446  0.00533854\n",
      " -0.00385251  0.00124974 -0.01193748 -0.00200827 -0.00380131  0.01164985\n",
      " -0.00314607 -0.00098215 -0.00985608 -0.01344736 -0.00536451 -0.02178996\n",
      " -0.00178788 -0.01472216]\n",
      "Noise variance: [0.]\n"
     ]
    }
   ],
   "source": [
    "pca = cuml.decomposition.PCA(n_components = 2)\n",
    "pca.fit(X_train)\n",
    "\n",
    "print(f'Components: {pca.components_}')\n",
    "print(f'Explained variance: {pca.explained_variance_}')\n",
    "exp_var = pca.explained_variance_ratio_\n",
    "print(f'Explained variance ratio: {exp_var}')\n",
    "\n",
    "print(f'Singular values: {pca.singular_values_}')\n",
    "print(f'Mean: {pca.mean_}')\n",
    "print(f'Noise variance: {pca.noise_variance_}')"
   ]
  },
  {
   "cell_type": "markdown",
   "id": "fd4e02d3-efb7-41ae-9edb-625fe63e899d",
   "metadata": {},
   "source": [
    "## cuML Preprocesing\n",
    "\n",
    "cuML supports a wide variety of preprocessing capabilities, mirroring the Scikit-learn API where appropriate and extending it in other areas."
   ]
  },
  {
   "cell_type": "code",
   "execution_count": 132,
   "id": "d1315cbe-1836-4d19-9513-061f1ae43993",
   "metadata": {},
   "outputs": [
    {
     "data": {
      "text/plain": [
       "array([[0., 1., 1., ..., 1., 0., 1.],\n",
       "       [0., 1., 0., ..., 1., 1., 0.],\n",
       "       [0., 1., 0., ..., 1., 1., 0.],\n",
       "       ...,\n",
       "       [0., 0., 0., ..., 0., 1., 0.],\n",
       "       [0., 0., 0., ..., 1., 1., 1.],\n",
       "       [1., 1., 0., ..., 1., 0., 0.]], dtype=float32)"
      ]
     },
     "execution_count": 132,
     "metadata": {},
     "output_type": "execute_result"
    }
   ],
   "source": [
    "from cuml.preprocessing import Binarizer\n",
    "\n",
    "binarizer = Binarizer()\n",
    "binarizer.fit_transform(X_train)"
   ]
  },
  {
   "cell_type": "code",
   "execution_count": 134,
   "id": "1305c180-7a6f-4530-b177-0b03c0ba5263",
   "metadata": {},
   "outputs": [
    {
     "data": {
      "text/plain": [
       "array([[1, 1, 1, ..., 1, 1, 1],\n",
       "       [1, 1, 1, ..., 2, 2, 1],\n",
       "       [1, 1, 1, ..., 2, 1, 1],\n",
       "       ...,\n",
       "       [0, 1, 0, ..., 1, 1, 1],\n",
       "       [1, 1, 1, ..., 1, 1, 1],\n",
       "       [1, 2, 1, ..., 2, 1, 1]], dtype=int32)"
      ]
     },
     "execution_count": 134,
     "metadata": {},
     "output_type": "execute_result"
    }
   ],
   "source": [
    "from cuml.preprocessing import KBinsDiscretizer\n",
    "\n",
    "discretizer = KBinsDiscretizer(n_bins=3, encode='ordinal', strategy='uniform')\n",
    "discretizer.fit_transform(X_train)"
   ]
  },
  {
   "cell_type": "code",
   "execution_count": 144,
   "id": "a67f91fc-f256-418e-bec3-ca5bb6507c8b",
   "metadata": {},
   "outputs": [
    {
     "name": "stdout",
     "output_type": "stream",
     "text": [
      "(75000, 231)\n",
      "[[ 1.0000000e+00 -2.2086940e+00  1.0529693e+00 ...  1.4669826e+00\n",
      "  -1.1677995e+00  9.2963308e-01]\n",
      " [ 1.0000000e+00 -3.6910493e+00  3.7494469e+00 ...  2.9491693e+01\n",
      "  -1.4921916e+01  7.5500441e+00]\n",
      " [ 1.0000000e+00 -2.4439375e+00  2.5241287e+00 ...  3.8922136e+00\n",
      "  -1.6989938e+00  7.4162936e-01]\n",
      " ...\n",
      " [ 1.0000000e+00 -4.3003263e+00 -2.8717377e+00 ...  1.4919987e-03\n",
      "  -1.6069251e-01  1.7307043e+01]\n",
      " [ 1.0000000e+00 -8.7786084e-01 -1.6236888e+00 ...  1.0309407e+00\n",
      "   2.9249423e+00  8.2985249e+00]\n",
      " [ 1.0000000e+00  3.1875753e+00  4.1635799e+00 ...  5.7780309e+00\n",
      "   3.6880007e+00  2.3539765e+00]]\n"
     ]
    }
   ],
   "source": [
    "from cuml.preprocessing import PolynomialFeatures\n",
    "\n",
    "poly = PolynomialFeatures(2)\n",
    "result = poly.fit_transform(X_train)\n",
    "print(result.shape)\n",
    "print(result)"
   ]
  },
  {
   "cell_type": "code",
   "execution_count": 151,
   "id": "2c240846-8e9f-4a11-910e-db76e81fa8b3",
   "metadata": {},
   "outputs": [
    {
     "data": {
      "text/plain": [
       "0     reviv\n",
       "1      sing\n",
       "2    adjust\n",
       "dtype: object"
      ]
     },
     "execution_count": 151,
     "metadata": {},
     "output_type": "execute_result"
    }
   ],
   "source": [
    "stemmer = cuml.preprocessing.text.stem.PorterStemmer()\n",
    "word_stems =  cudf.Series(['revivals','singing','adjustable'])\n",
    "stemmer.stem(word_stems)"
   ]
  },
  {
   "cell_type": "markdown",
   "id": "a6231c73-7df9-48d3-89dc-cdb328066b3d",
   "metadata": {},
   "source": [
    "## Pipelines\n",
    "\n",
    "To quote the wonderful scikit-learn documentation, `Pipeline` \"sequentially apply a list of transforms and a final estimator\" to a dataset.\n",
    "\n",
    "By collecting transformations and training into a single pipeline, we can confidently do things like cross-validation and hyper-parameter optimization without worrying about data leakage.\n",
    "\n",
    "cuML transformations and estimators are fully compatible with the scikit-learn Pipeline API."
   ]
  },
  {
   "cell_type": "code",
   "execution_count": 159,
   "id": "9857018f-b0e0-481b-8f7b-853086f91b8f",
   "metadata": {},
   "outputs": [
    {
     "data": {
      "text/plain": [
       "0.9759600162506104"
      ]
     },
     "execution_count": 159,
     "metadata": {},
     "output_type": "execute_result"
    }
   ],
   "source": [
    "clf = cuml.svm.SVC()\n",
    "clf.fit(X_train, y_train)\n",
    "clf.score(X_test, y_test)"
   ]
  },
  {
   "cell_type": "code",
   "execution_count": 160,
   "id": "2207bac6-d5dd-40eb-9c82-d75ad6e8c3c6",
   "metadata": {},
   "outputs": [
    {
     "data": {
      "text/plain": [
       "0.9761999845504761"
      ]
     },
     "execution_count": 160,
     "metadata": {},
     "output_type": "execute_result"
    }
   ],
   "source": [
    "pipe = Pipeline([\n",
    "    ('scaler', cuml.preprocessing.StandardScaler()),\n",
    "    ('svc', cuml.svm.SVC()),\n",
    "])\n",
    "pipe.fit(X_train, y_train)\n",
    "pipe.score(X_test, y_test)"
   ]
  },
  {
   "cell_type": "code",
   "execution_count": 161,
   "id": "e313446f-224f-4639-a67e-637dbb5d40ed",
   "metadata": {},
   "outputs": [
    {
     "data": {
      "text/plain": [
       "0.9809200167655945"
      ]
     },
     "execution_count": 161,
     "metadata": {},
     "output_type": "execute_result"
    }
   ],
   "source": [
    "# This is entirely on the GPU!\n",
    "\n",
    "pipe = Pipeline([\n",
    "    (\"polynomial_features\", cuml.preprocessing.PolynomialFeatures(2)),\n",
    "    ('scaler', cuml.preprocessing.StandardScaler()),\n",
    "    ('svc', cuml.svm.SVC()),\n",
    "])\n",
    "pipe.fit(X_train, y_train)\n",
    "pipe.score(X_test, y_test)"
   ]
  },
  {
   "cell_type": "code",
   "execution_count": null,
   "id": "14e11690-f31f-4a42-8cf4-3621dbbc6084",
   "metadata": {},
   "outputs": [],
   "source": []
  },
  {
   "cell_type": "markdown",
   "id": "b2cfccfa-7402-4a0d-8541-cad9b35764be",
   "metadata": {},
   "source": [
    "## Explainability\n",
    "\n",
    "Model explainability is often critically important. cuML provides a GPU-accelerated SHAP Kernel Explainer and a Permutation Explainer."
   ]
  },
  {
   "cell_type": "code",
   "execution_count": null,
   "id": "fc1ecfea-1015-4560-9eee-2ab6c9b9d31b",
   "metadata": {},
   "outputs": [],
   "source": []
  },
  {
   "cell_type": "code",
   "execution_count": null,
   "id": "3b35afa3-7473-48cb-871b-3ed5ca27cb01",
   "metadata": {},
   "outputs": [],
   "source": []
  },
  {
   "cell_type": "markdown",
   "id": "899ab982-b69a-4583-b4e8-2621bb01a484",
   "metadata": {},
   "source": [
    "## Pickling Models\n",
    "\n",
    "So far, we've only stored our models in memory. This final section demonstrates basic pickling of both single-GPU and multi-GPU cuML models for persistence.\n",
    "\n",
    "This is the first use of a multi-GPU model in this notebook. cuML uses Dask for distributed model training. We'll walk through an example below, but we encourage you to explore the cuML documentation for more information and examples."
   ]
  },
  {
   "cell_type": "code",
   "execution_count": null,
   "id": "152ae6d5-c54d-48c5-ba77-7162764eaaed",
   "metadata": {},
   "outputs": [],
   "source": []
  },
  {
   "cell_type": "code",
   "execution_count": null,
   "id": "5838ceee-a829-4b5e-b872-8760150649bd",
   "metadata": {},
   "outputs": [],
   "source": []
  },
  {
   "cell_type": "code",
   "execution_count": null,
   "id": "6dbeabd9-b098-44d1-b944-93cb9668c3dd",
   "metadata": {},
   "outputs": [],
   "source": []
  },
  {
   "cell_type": "code",
   "execution_count": null,
   "id": "f846f869-6ccb-4860-aaf1-b21505b2b5b0",
   "metadata": {},
   "outputs": [],
   "source": []
  }
 ],
 "metadata": {
  "kernelspec": {
   "display_name": "Python 3",
   "language": "python",
   "name": "python3"
  },
  "language_info": {
   "codemirror_mode": {
    "name": "ipython",
    "version": 3
   },
   "file_extension": ".py",
   "mimetype": "text/x-python",
   "name": "python",
   "nbconvert_exporter": "python",
   "pygments_lexer": "ipython3",
   "version": "3.8.8"
  }
 },
 "nbformat": 4,
 "nbformat_minor": 5
}
