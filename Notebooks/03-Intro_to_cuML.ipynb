{
 "cells": [
  {
   "cell_type": "markdown",
   "id": "49ba0e05-b26e-45a8-9e72-c8797e14de05",
   "metadata": {},
   "source": [
    "## Introduction and Key Concepts\n",
    "\n",
    "cuML accelerates machine learning on GPUs. The library follows a couple of key principals, and understanding these will help you take full advantage cuML.\n",
    "\n",
    "### 1. Where possible, match the scikit-learn API\n",
    "\n",
    "cuML estimators look and feel just like scikit-learn estimators. You initialize them with key parameters, fit them with a fit method, then call predict or transform for inference.\n",
    "\n",
    "### 2. Accept flexible input types, return predictable output types\n",
    "\n",
    "cuML estimators can accept NumPy arrays, cuDF dataframes, cuPy arrays, 2d PyTorch tensors, and really any kind of standards-based Python array input you can throw at them.\n",
    "\n",
    "By default, outputs will mirror the data type you provided.\n",
    "\n",
    "### 3. Be fast!\n",
    "\n",
    "On a modern GPU, these can exceed the performance of CPU-based equivalents by a factor of anything from 4x (for a medium-sized linear regression) to over 1000x (for large-scale tSNE dimensionality reduction). In many cases, performance advantages appear as the dataset grows."
   ]
  },
  {
   "cell_type": "markdown",
   "id": "e3d7b082-fe3d-4689-8223-6f0f7b798c73",
   "metadata": {},
   "source": [
    "## cuML Estimators"
   ]
  },
  {
   "cell_type": "markdown",
   "id": "7b07b1cd-d0b1-4b42-b36d-0f42620a5313",
   "metadata": {},
   "source": [
    "This notebook provides an overview of several machine learning estimators in cuML, demonstrating how to train and evaluate them with built-in metrics functions. For more in depth information and examples, please refer to the documentation."
   ]
  },
  {
   "cell_type": "code",
   "execution_count": 34,
   "id": "2f38a04c-58ca-4272-9e60-6bd3c4fd3890",
   "metadata": {},
   "outputs": [],
   "source": [
    "import cudf\n",
    "import cuml\n",
    "from cuml.model_selection import train_test_split\n",
    "from cuml.datasets import make_classification, make_regression\n",
    "\n",
    "NFEATURES = 20\n",
    "\n",
    "X, y = make_classification(\n",
    "    n_samples=100000,\n",
    "    n_features=NFEATURES,\n",
    "    n_informative=NFEATURES,\n",
    "    n_redundant=0,\n",
    "    n_classes=2,\n",
    "    class_sep=0.01,\n",
    "    random_state=12\n",
    ")\n",
    "\n",
    "Xr, yr = make_regression(\n",
    "    n_samples=100000,\n",
    "    n_features=NFEATURES,\n",
    "    n_informative=NFEATURES,\n",
    "    noise=90,\n",
    "    random_state=12\n",
    ")\n",
    "\n",
    "\n",
    "X_train, X_test, y_train, y_test = train_test_split(X, y,\n",
    "                                                    random_state=0)\n",
    "\n",
    "Xr_train, Xr_test, yr_train, yr_test = train_test_split(Xr, yr,\n",
    "                                                        random_state=42)"
   ]
  },
  {
   "cell_type": "markdown",
   "id": "f5675f19-401b-4cc9-b9b5-4f704e34ffda",
   "metadata": {},
   "source": [
    "### Regressors"
   ]
  },
  {
   "cell_type": "code",
   "execution_count": 35,
   "id": "21265a3d-1e04-414a-a405-ef48e85aa29a",
   "metadata": {},
   "outputs": [
    {
     "name": "stdout",
     "output_type": "stream",
     "text": [
      "0.8731609582901001\n",
      "[42.26208   31.648277  97.97266    8.028292  98.45462   17.758625\n",
      " 29.110216  42.0269    41.503304  50.976448  38.841347  79.8951\n",
      " 15.154717  35.345844  77.980385  89.59795   27.576366   3.3293636\n",
      " 37.284145   2.56229  ]\n"
     ]
    }
   ],
   "source": [
    "clf = cuml.linear_model.Lasso()\n",
    "clf.fit(Xr_train, yr_train)\n",
    "print(clf.score(Xr_test, yr_test))\n",
    "print(clf.coef_)"
   ]
  },
  {
   "cell_type": "code",
   "execution_count": 36,
   "id": "e0d425b6-822a-40c6-b76f-f7076843c81c",
   "metadata": {},
   "outputs": [
    {
     "name": "stdout",
     "output_type": "stream",
     "text": [
      "0.8735741376876831\n",
      "[43.275894  32.63923   98.98531    9.039696  99.46612   18.758041\n",
      " 30.10358   43.022507  42.504524  51.973602  39.85379   80.87418\n",
      " 16.1243    36.368073  78.97133   90.585976  28.600662   4.368889\n",
      " 38.307487   3.5439644]\n"
     ]
    }
   ],
   "source": [
    "clf = cuml.linear_model.Ridge()\n",
    "clf.fit(Xr_train, yr_train)\n",
    "print(clf.score(Xr_test, yr_test))\n",
    "print(clf.coef_)"
   ]
  },
  {
   "cell_type": "code",
   "execution_count": 37,
   "id": "cb0ae8bc-3b15-4690-858f-d8cd7d669bd5",
   "metadata": {},
   "outputs": [
    {
     "name": "stdout",
     "output_type": "stream",
     "text": [
      "0.6750473976135254\n"
     ]
    }
   ],
   "source": [
    "clf = cuml.neighbors.KNeighborsRegressor()\n",
    "clf.fit(Xr_train, yr_train)\n",
    "print(clf.score(Xr_test, yr_test))"
   ]
  },
  {
   "cell_type": "markdown",
   "id": "dc6018ce-8b9a-42e5-85ab-85d213c5b1d8",
   "metadata": {},
   "source": [
    "### Classifiers"
   ]
  },
  {
   "cell_type": "code",
   "execution_count": 38,
   "id": "7b399994-07fa-442b-92ad-74e681270c26",
   "metadata": {},
   "outputs": [
    {
     "name": "stdout",
     "output_type": "stream",
     "text": [
      "[E] [12:51:03.483279] L-BFGS line search failed\n",
      "0.497079998254776\n",
      "[-3.7582314e-03  9.1156486e-04  3.1163811e-03  1.0851971e-03\n",
      "  7.8051696e-03  4.0029390e-03  4.2287796e-04 -7.8248983e-04\n",
      "  4.5197555e-03  3.6304430e-03  2.1824990e-04 -1.9584077e-03\n",
      "  8.6510426e-04  4.9314434e-03 -4.2862576e-03  4.9139344e-05\n",
      " -3.5439176e-03  1.7734672e-03  4.5621200e-03 -1.0905696e-02]\n"
     ]
    }
   ],
   "source": [
    "clf = cuml.linear_model.LogisticRegression()\n",
    "clf.fit(X_train, y_train)\n",
    "print(clf.score(X_test, y_test))\n",
    "print(clf.coef_.ravel())"
   ]
  },
  {
   "cell_type": "code",
   "execution_count": 39,
   "id": "d0e5f989-3fea-490d-a3b7-183a463860b4",
   "metadata": {},
   "outputs": [
    {
     "name": "stdout",
     "output_type": "stream",
     "text": [
      "0.49724000692367554\n",
      "[-3.7409374e-03  9.3495927e-04  3.0662529e-03  1.0176267e-03\n",
      "  7.7631096e-03  4.0295441e-03  4.1809116e-04 -7.7687390e-04\n",
      "  4.5163226e-03  3.6031262e-03  2.0021595e-04 -2.0515765e-03\n",
      "  8.1636111e-04  4.8390576e-03 -4.2563956e-03  5.7828958e-05\n",
      " -3.5315230e-03  1.7584465e-03  4.5539355e-03 -1.0913123e-02]\n"
     ]
    }
   ],
   "source": [
    "clf = cuml.linear_model.LogisticRegression(penalty=\"l1\")\n",
    "clf.fit(X_train, y_train)\n",
    "print(clf.score(X_test, y_test))\n",
    "print(clf.coef_.ravel())"
   ]
  },
  {
   "cell_type": "code",
   "execution_count": 40,
   "id": "5bcaa91c-26f4-4e47-a69c-f23062720070",
   "metadata": {},
   "outputs": [
    {
     "name": "stdout",
     "output_type": "stream",
     "text": [
      "0.9721199870109558\n"
     ]
    }
   ],
   "source": [
    "clf = cuml.neighbors.KNeighborsClassifier(n_neighbors=5)\n",
    "clf.fit(X_train, y_train)\n",
    "print(clf.score(X_test, y_test))"
   ]
  },
  {
   "cell_type": "code",
   "execution_count": 41,
   "id": "bae7ba6a-77cd-47af-a790-ea801d43d488",
   "metadata": {},
   "outputs": [
    {
     "name": "stdout",
     "output_type": "stream",
     "text": [
      "0.974399983882904\n"
     ]
    }
   ],
   "source": [
    "clf = cuml.neighbors.KNeighborsClassifier(n_neighbors=10)\n",
    "clf.fit(X_train, y_train)\n",
    "print(clf.score(X_test, y_test))"
   ]
  },
  {
   "cell_type": "markdown",
   "id": "acadcdcd-802c-4010-b1a1-444465581058",
   "metadata": {},
   "source": [
    "### Intermission: CPU Performance Comparison"
   ]
  },
  {
   "cell_type": "code",
   "execution_count": 42,
   "id": "120b9ac5-0f88-4582-b044-3c6bb0c56945",
   "metadata": {},
   "outputs": [],
   "source": [
    "from sklearn.neighbors import KNeighborsClassifier as sk_KNeighborsClassifier"
   ]
  },
  {
   "cell_type": "code",
   "execution_count": 43,
   "id": "38ab0f2f-88e5-40ea-bdcb-624ce24fd556",
   "metadata": {},
   "outputs": [],
   "source": [
    "X_train_cpu, X_test_cpu = X_train.get(), X_test.get()\n",
    "y_train_cpu, y_test_cpu = y_train.get(), y_test.get()"
   ]
  },
  {
   "cell_type": "code",
   "execution_count": 45,
   "id": "276ed273-21f5-4ee9-9cac-3b66c5f79f9d",
   "metadata": {},
   "outputs": [
    {
     "name": "stdout",
     "output_type": "stream",
     "text": [
      "0.9744\n",
      "CPU times: user 12min 17s, sys: 23min 57s, total: 36min 15s\n",
      "Wall time: 50.2 s\n"
     ]
    }
   ],
   "source": [
    "%%time\n",
    "\n",
    "clf = sk_KNeighborsClassifier(n_neighbors=10, n_jobs=-1)\n",
    "clf.fit(X_train_cpu, y_train_cpu)\n",
    "print(clf.score(X_test_cpu, y_test_cpu))"
   ]
  },
  {
   "cell_type": "code",
   "execution_count": 46,
   "id": "f6b2c04d-316b-4818-8bb1-873ed9d9bc52",
   "metadata": {},
   "outputs": [
    {
     "name": "stdout",
     "output_type": "stream",
     "text": [
      "0.974399983882904\n",
      "CPU times: user 45.9 ms, sys: 159 ms, total: 205 ms\n",
      "Wall time: 201 ms\n"
     ]
    }
   ],
   "source": [
    "%%time\n",
    "\n",
    "clf = cuml.neighbors.KNeighborsClassifier(n_neighbors=10)\n",
    "clf.fit(X_train, y_train)\n",
    "print(clf.score(X_test, y_test))"
   ]
  },
  {
   "cell_type": "markdown",
   "id": "044aa533-623e-4fd0-9954-01fc4edfd5c4",
   "metadata": {},
   "source": [
    "### Back to cuML Classifiers"
   ]
  },
  {
   "cell_type": "code",
   "execution_count": 9,
   "id": "7a0170ae-1039-4004-b262-f534c01cc0f9",
   "metadata": {},
   "outputs": [
    {
     "name": "stdout",
     "output_type": "stream",
     "text": [
      "0.9753999710083008\n"
     ]
    }
   ],
   "source": [
    "clf = cuml.svm.SVC()\n",
    "clf.fit(X_train, y_train)\n",
    "print(clf.score(X_test, y_test))"
   ]
  },
  {
   "cell_type": "code",
   "execution_count": 10,
   "id": "3752e3c1-c7c3-496f-8556-d5b3ce16f0bb",
   "metadata": {},
   "outputs": [
    {
     "name": "stdout",
     "output_type": "stream",
     "text": [
      "0.980679988861084\n"
     ]
    }
   ],
   "source": [
    "clf = cuml.svm.SVC(C=10)\n",
    "clf.fit(X_train, y_train)\n",
    "print(clf.score(X_test, y_test))"
   ]
  },
  {
   "cell_type": "markdown",
   "id": "951fbce7-deeb-4ec5-a77e-6d35bcf992f3",
   "metadata": {},
   "source": [
    "### Clusterers"
   ]
  },
  {
   "cell_type": "code",
   "execution_count": 11,
   "id": "0c2d9417-ff02-4878-8ebc-950a6989eb4f",
   "metadata": {},
   "outputs": [
    {
     "name": "stdout",
     "output_type": "stream",
     "text": [
      "labels:\n",
      "[1 0 1 ... 1 0 1]\n",
      "cluster_centers:\n",
      "[[-0.52050364  1.3660686  -0.5398778   1.138281    0.885171    0.59392375\n",
      "   0.24359192  0.5743805  -0.02063601 -0.30981672  0.4525381  -0.4883322\n",
      "  -0.36849728 -0.40376672 -0.27069744  0.80245805  0.9221232  -0.26733166\n",
      "  -0.38114342  0.44678494]\n",
      " [ 0.5452945  -1.3669842   0.5409455  -1.1116333  -0.90776545 -0.6070346\n",
      "  -0.25297645 -0.58496463  0.03812201  0.31686893 -0.43159282  0.49286634\n",
      "   0.3576051   0.42367586  0.28590336 -0.8342137  -0.9239553   0.24012113\n",
      "   0.36838338 -0.49222034]]\n"
     ]
    }
   ],
   "source": [
    "kmeans = cuml.cluster.KMeans(n_clusters=2)\n",
    "kmeans.fit(X_train)\n",
    "\n",
    "print(\"labels:\")\n",
    "print(kmeans.labels_)\n",
    "print(\"cluster_centers:\")\n",
    "print(kmeans.cluster_centers_)"
   ]
  },
  {
   "cell_type": "markdown",
   "id": "d6a7e56f-e07f-44b7-b547-729e2c18912c",
   "metadata": {},
   "source": [
    "### Dimensionality Reduction"
   ]
  },
  {
   "cell_type": "code",
   "execution_count": 12,
   "id": "ef36e95f-4f5e-4e16-a1ae-e659fcc7dda6",
   "metadata": {},
   "outputs": [
    {
     "name": "stdout",
     "output_type": "stream",
     "text": [
      "Components: [[-0.19620655  0.48750752 -0.21592808  0.37008977  0.31834662  0.19903679\n",
      "   0.10499372  0.21698622  0.00413262 -0.1112079   0.10932487 -0.1532098\n",
      "  -0.12400512 -0.1290357  -0.10037347  0.30771324  0.3142921  -0.096614\n",
      "  -0.1489145   0.16214935]\n",
      " [-0.01918813 -0.15371218  0.34882915  0.31031907  0.17148638 -0.0455441\n",
      "  -0.23478465 -0.18442973 -0.06603965 -0.12563434  0.41213584 -0.3326168\n",
      "  -0.14456522 -0.13729379  0.22417799 -0.18594134  0.07163288  0.17343424\n",
      "   0.36539772  0.2084818 ]]\n",
      "Explained variance: [12.816997 12.112327]\n",
      "Explained variance ratio: [0.09732978 0.09197865]\n",
      "Singular values: [980.43964 953.1067 ]\n",
      "Mean: [ 0.01252334 -0.00078583  0.00066356  0.01305394 -0.01151238 -0.00669956\n",
      " -0.00475181 -0.00543115  0.00875004  0.00360132  0.01036651  0.00238477\n",
      " -0.00535896  0.01005383  0.00766974 -0.01607423 -0.00113762 -0.01354437\n",
      " -0.00629009 -0.02283039]\n",
      "Noise variance: [0.]\n"
     ]
    }
   ],
   "source": [
    "pca = cuml.decomposition.PCA(n_components = 2)\n",
    "pca.fit(X_train)\n",
    "\n",
    "print(f'Components: {pca.components_}')\n",
    "print(f'Explained variance: {pca.explained_variance_}')\n",
    "exp_var = pca.explained_variance_ratio_\n",
    "print(f'Explained variance ratio: {exp_var}')\n",
    "\n",
    "print(f'Singular values: {pca.singular_values_}')\n",
    "print(f'Mean: {pca.mean_}')\n",
    "print(f'Noise variance: {pca.noise_variance_}')"
   ]
  },
  {
   "cell_type": "markdown",
   "id": "fd4e02d3-efb7-41ae-9edb-625fe63e899d",
   "metadata": {},
   "source": [
    "## cuML Preprocesing\n",
    "\n",
    "cuML supports a wide variety of preprocessing capabilities, mirroring the Scikit-learn API where appropriate and extending it in other areas."
   ]
  },
  {
   "cell_type": "code",
   "execution_count": 13,
   "id": "d1315cbe-1836-4d19-9513-061f1ae43993",
   "metadata": {},
   "outputs": [
    {
     "data": {
      "text/plain": [
       "array([[0., 0., 0., ..., 1., 0., 0.],\n",
       "       [0., 0., 0., ..., 1., 0., 0.],\n",
       "       [1., 0., 0., ..., 1., 1., 1.],\n",
       "       ...,\n",
       "       [1., 0., 1., ..., 0., 1., 0.],\n",
       "       [1., 1., 0., ..., 1., 0., 1.],\n",
       "       [0., 0., 1., ..., 1., 0., 0.]], dtype=float32)"
      ]
     },
     "execution_count": 13,
     "metadata": {},
     "output_type": "execute_result"
    }
   ],
   "source": [
    "from cuml.preprocessing import Binarizer\n",
    "\n",
    "binarizer = Binarizer()\n",
    "binarizer.fit_transform(X_train)"
   ]
  },
  {
   "cell_type": "code",
   "execution_count": 14,
   "id": "1305c180-7a6f-4530-b177-0b03c0ba5263",
   "metadata": {},
   "outputs": [
    {
     "data": {
      "text/plain": [
       "array([[1, 1, 1, ..., 1, 1, 1],\n",
       "       [1, 1, 0, ..., 2, 0, 1],\n",
       "       [1, 1, 0, ..., 1, 1, 2],\n",
       "       ...,\n",
       "       [1, 1, 1, ..., 1, 1, 1],\n",
       "       [1, 2, 1, ..., 1, 1, 1],\n",
       "       [1, 1, 1, ..., 1, 1, 1]], dtype=int32)"
      ]
     },
     "execution_count": 14,
     "metadata": {},
     "output_type": "execute_result"
    }
   ],
   "source": [
    "from cuml.preprocessing import KBinsDiscretizer\n",
    "\n",
    "discretizer = KBinsDiscretizer(n_bins=3, encode='ordinal', strategy='uniform')\n",
    "discretizer.fit_transform(X_train)"
   ]
  },
  {
   "cell_type": "code",
   "execution_count": 15,
   "id": "a67f91fc-f256-418e-bec3-ca5bb6507c8b",
   "metadata": {},
   "outputs": [
    {
     "name": "stdout",
     "output_type": "stream",
     "text": [
      "(75000, 231)\n",
      "[[ 1.00000000e+00 -1.14202595e+00 -6.54440224e-01 ...  6.81346804e-02\n",
      "   4.15505946e-01  2.53388143e+00]\n",
      " [ 1.00000000e+00 -1.45847034e+00 -8.49974513e-01 ...  4.62020073e+01\n",
      "   2.33691654e+01  1.18202190e+01]\n",
      " [ 1.00000000e+00  2.27742687e-01 -1.14044130e+00 ...  1.71411586e+00\n",
      "   4.44261217e+00  1.15142765e+01]\n",
      " ...\n",
      " [ 1.00000000e+00  2.66800523e+00 -7.49021471e-01 ...  1.02879000e+00\n",
      "  -3.14288735e+00  9.60132027e+00]\n",
      " [ 1.00000000e+00  8.77428353e-01  4.40193510e+00 ...  1.05567837e+00\n",
      "  -2.13801026e+00  4.33000088e+00]\n",
      " [ 1.00000000e+00 -3.55584711e-01 -1.69996846e+00 ...  2.73472723e-03\n",
      "   3.68916094e-02  4.97669697e-01]]\n"
     ]
    }
   ],
   "source": [
    "from cuml.preprocessing import PolynomialFeatures\n",
    "\n",
    "poly = PolynomialFeatures(2)\n",
    "result = poly.fit_transform(X_train)\n",
    "print(result.shape)\n",
    "print(result)"
   ]
  },
  {
   "cell_type": "code",
   "execution_count": 16,
   "id": "2c240846-8e9f-4a11-910e-db76e81fa8b3",
   "metadata": {},
   "outputs": [
    {
     "data": {
      "text/plain": [
       "0     reviv\n",
       "1      sing\n",
       "2    adjust\n",
       "dtype: object"
      ]
     },
     "execution_count": 16,
     "metadata": {},
     "output_type": "execute_result"
    }
   ],
   "source": [
    "stemmer = cuml.preprocessing.text.stem.PorterStemmer()\n",
    "word_stems =  cudf.Series(['revivals','singing','adjustable'])\n",
    "stemmer.stem(word_stems)"
   ]
  },
  {
   "cell_type": "markdown",
   "id": "a6231c73-7df9-48d3-89dc-cdb328066b3d",
   "metadata": {},
   "source": [
    "## Pipelines\n",
    "\n",
    "To quote the wonderful scikit-learn documentation, `Pipeline` \"sequentially [applies] a list of transforms and a final estimator\" to a dataset.\n",
    "\n",
    "By collecting transformations and training into a single pipeline, we can confidently do things like cross-validation and hyper-parameter optimization without worrying about data leakage.\n",
    "\n",
    "cuML transformations and estimators are fully compatible with the scikit-learn Pipeline API."
   ]
  },
  {
   "cell_type": "code",
   "execution_count": 17,
   "id": "9857018f-b0e0-481b-8f7b-853086f91b8f",
   "metadata": {},
   "outputs": [
    {
     "data": {
      "text/plain": [
       "0.9753999710083008"
      ]
     },
     "execution_count": 17,
     "metadata": {},
     "output_type": "execute_result"
    }
   ],
   "source": [
    "clf = cuml.svm.SVC()\n",
    "clf.fit(X_train, y_train)\n",
    "clf.score(X_test, y_test)"
   ]
  },
  {
   "cell_type": "code",
   "execution_count": 18,
   "id": "2207bac6-d5dd-40eb-9c82-d75ad6e8c3c6",
   "metadata": {},
   "outputs": [
    {
     "data": {
      "text/plain": [
       "0.9747200012207031"
      ]
     },
     "execution_count": 18,
     "metadata": {},
     "output_type": "execute_result"
    }
   ],
   "source": [
    "from sklearn.pipeline import Pipeline\n",
    "\n",
    "pipe = Pipeline([\n",
    "    ('scaler', cuml.preprocessing.StandardScaler()),\n",
    "    ('svc', cuml.svm.SVC()),\n",
    "])\n",
    "pipe.fit(X_train, y_train)\n",
    "pipe.score(X_test, y_test)"
   ]
  },
  {
   "cell_type": "code",
   "execution_count": 19,
   "id": "e313446f-224f-4639-a67e-637dbb5d40ed",
   "metadata": {},
   "outputs": [
    {
     "data": {
      "text/plain": [
       "0.9798799753189087"
      ]
     },
     "execution_count": 19,
     "metadata": {},
     "output_type": "execute_result"
    }
   ],
   "source": [
    "# This is entirely on the GPU!\n",
    "\n",
    "pipe = Pipeline([\n",
    "    (\"polynomial_features\", cuml.preprocessing.PolynomialFeatures(2)),\n",
    "    ('scaler', cuml.preprocessing.StandardScaler()),\n",
    "    ('svc', cuml.svm.SVC()),\n",
    "])\n",
    "pipe.fit(X_train, y_train)\n",
    "pipe.score(X_test, y_test)"
   ]
  },
  {
   "cell_type": "markdown",
   "id": "b2cfccfa-7402-4a0d-8541-cad9b35764be",
   "metadata": {},
   "source": [
    "## Explainability\n",
    "\n",
    "Model explainability is often critically important. cuML provides a GPU-accelerated SHAP Kernel Explainer and a Permutation Explainer."
   ]
  },
  {
   "cell_type": "code",
   "execution_count": 20,
   "id": "d7108edd-c51f-4768-ad6d-5e0ccca8e763",
   "metadata": {},
   "outputs": [
    {
     "data": {
      "text/plain": [
       "array([[-2.6573505 ,  0.43958002, -0.09425537, -0.10002708,  0.03937579,\n",
       "        -0.20362636,  0.19862506,  0.59732676, -0.09788719, -0.1783818 ],\n",
       "       [ 2.8891382 ,  0.12803541,  0.091938  ,  0.0609557 ,  0.06538174,\n",
       "        -0.00621617,  0.15530689,  0.08116505,  0.07060298, -0.02306223]],\n",
       "      dtype=float32)"
      ]
     },
     "execution_count": 20,
     "metadata": {},
     "output_type": "execute_result"
    }
   ],
   "source": [
    "from cuml.explainer import KernelExplainer\n",
    "\n",
    "Xr, yr = make_regression(\n",
    "    n_samples=102,\n",
    "    n_features=10,\n",
    "    noise=0.1,\n",
    "    random_state=42)\n",
    "\n",
    "Xr_train, Xr_test, yr_train, yr_test = train_test_split(\n",
    "    Xr,\n",
    "    yr,\n",
    "    test_size=2,\n",
    "    random_state=42)\n",
    "\n",
    "model = cuml.svm.SVR().fit(Xr_train, yr_train)\n",
    "\n",
    "cu_explainer = KernelExplainer(\n",
    "    model=model.predict,\n",
    "    data=Xr_train,\n",
    "    is_gpu_model=True)\n",
    "\n",
    "cu_shap_values = cu_explainer.shap_values(Xr_test)\n",
    "cu_shap_values"
   ]
  },
  {
   "cell_type": "markdown",
   "id": "899ab982-b69a-4583-b4e8-2621bb01a484",
   "metadata": {},
   "source": [
    "## Pickling Models\n",
    "\n",
    "So far, we've only stored our models in memory. This final section demonstrates basic pickling of both single-GPU and multi-GPU cuML models for persistence."
   ]
  },
  {
   "cell_type": "markdown",
   "id": "c8510286-b091-4829-ab0f-4133cf967d4c",
   "metadata": {},
   "source": [
    "### Single GPU"
   ]
  },
  {
   "cell_type": "markdown",
   "id": "c7098f35-201b-458e-aec8-da97428c0000",
   "metadata": {},
   "source": [
    "We can pickle individual estimators."
   ]
  },
  {
   "cell_type": "code",
   "execution_count": 21,
   "id": "cb30877c-3704-41a4-a707-4fc1f13efcde",
   "metadata": {},
   "outputs": [],
   "source": [
    "import pickle"
   ]
  },
  {
   "cell_type": "code",
   "execution_count": 22,
   "id": "a2e563b6-71b0-4aa9-b6be-12eea436135d",
   "metadata": {},
   "outputs": [
    {
     "data": {
      "text/plain": [
       "array([1, 0, 1, ..., 1, 0, 1], dtype=int32)"
      ]
     },
     "execution_count": 22,
     "metadata": {},
     "output_type": "execute_result"
    }
   ],
   "source": [
    "pickle.dump(kmeans, open(\"kmeans.pkl\", \"wb\"))\n",
    "loaded_kmeans = pickle.load(open(\"kmeans.pkl\", \"rb\"))\n",
    "loaded_kmeans.labels_"
   ]
  },
  {
   "cell_type": "markdown",
   "id": "5c01dd79-b272-415e-9f76-ed8a2324bda9",
   "metadata": {},
   "source": [
    "We can even pickle the pipeline we made earlier."
   ]
  },
  {
   "cell_type": "code",
   "execution_count": 23,
   "id": "152ae6d5-c54d-48c5-ba77-7162764eaaed",
   "metadata": {},
   "outputs": [
    {
     "name": "stdout",
     "output_type": "stream",
     "text": [
      "0.9798799753189087\n"
     ]
    },
    {
     "data": {
      "text/plain": [
       "array([1, 0, 1, ..., 1, 1, 0])"
      ]
     },
     "execution_count": 23,
     "metadata": {},
     "output_type": "execute_result"
    }
   ],
   "source": [
    "pickle.dump(pipe, open(\"model.pkl\", \"wb\"))\n",
    "loaded_pipeline = pickle.load(open(\"model.pkl\", \"rb\"))\n",
    "\n",
    "print(loaded_pipeline.score(X_test, y_test))\n",
    "loaded_pipeline.predict(X_test)"
   ]
  },
  {
   "cell_type": "markdown",
   "id": "35f9eccf-17bf-4011-95b0-a05c37e24139",
   "metadata": {},
   "source": [
    "### Multi-GPU"
   ]
  },
  {
   "cell_type": "markdown",
   "id": "a4a9b1c3-51be-442a-9236-9f1eacceb788",
   "metadata": {},
   "source": [
    "This is the first use of a multi-GPU model in this notebook. cuML uses Dask for distributed model training. We'll walk through an example below, but we encourage you to explore the cuML documentation for more information and examples."
   ]
  },
  {
   "cell_type": "code",
   "execution_count": 24,
   "id": "f846f869-6ccb-4860-aaf1-b21505b2b5b0",
   "metadata": {},
   "outputs": [
    {
     "data": {
      "text/html": [
       "<table style=\"border: 2px solid white;\">\n",
       "<tr>\n",
       "<td style=\"vertical-align: top; border: 0px solid white\">\n",
       "<h3 style=\"text-align: left;\">Client</h3>\n",
       "<ul style=\"text-align: left; list-style: none; margin: 0; padding: 0;\">\n",
       "  <li><b>Scheduler: </b>tcp://127.0.0.1:35899</li>\n",
       "  <li><b>Dashboard: </b><a href='http://127.0.0.1:8787/status' target='_blank'>http://127.0.0.1:8787/status</a></li>\n",
       "</ul>\n",
       "</td>\n",
       "<td style=\"vertical-align: top; border: 0px solid white\">\n",
       "<h3 style=\"text-align: left;\">Cluster</h3>\n",
       "<ul style=\"text-align: left; list-style:none; margin: 0; padding: 0;\">\n",
       "  <li><b>Workers: </b>2</li>\n",
       "  <li><b>Cores: </b>2</li>\n",
       "  <li><b>Memory: </b>1.48 TiB</li>\n",
       "</ul>\n",
       "</td>\n",
       "</tr>\n",
       "</table>"
      ],
      "text/plain": [
       "<Client: 'tcp://127.0.0.1:35899' processes=2 threads=2, memory=1.48 TiB>"
      ]
     },
     "execution_count": 24,
     "metadata": {},
     "output_type": "execute_result"
    }
   ],
   "source": [
    "from dask.distributed import Client\n",
    "from dask_cuda import LocalCUDACluster\n",
    "\n",
    "cluster = LocalCUDACluster(CUDA_VISIBLE_DEVICES=\"0,1\")\n",
    "client = Client(cluster)\n",
    "client"
   ]
  },
  {
   "cell_type": "code",
   "execution_count": 25,
   "id": "684eb360-3424-40ef-a19c-dab1391897bc",
   "metadata": {},
   "outputs": [
    {
     "data": {
      "text/plain": [
       "<cuml.dask.cluster.kmeans.KMeans at 0x7fa970d25700>"
      ]
     },
     "execution_count": 25,
     "metadata": {},
     "output_type": "execute_result"
    }
   ],
   "source": [
    "from cuml.dask.datasets import make_blobs\n",
    "from cuml.dask.cluster import KMeans\n",
    "\n",
    "n_workers = len(client.scheduler_info()[\"workers\"].keys())\n",
    "\n",
    "X, y = make_blobs(n_samples=5000,\n",
    "                  n_features=20,\n",
    "                  centers=3,\n",
    "                  cluster_std=0.4,\n",
    "                  random_state=0,\n",
    "                  n_parts=n_workers*5)\n",
    "\n",
    "X = X.persist()\n",
    "y = y.persist()\n",
    "\n",
    "dist_model = KMeans(n_clusters=5)\n",
    "dist_model.fit(X)"
   ]
  },
  {
   "cell_type": "markdown",
   "id": "01ff50d4-dd1a-4bbe-944d-894c083545fc",
   "metadata": {},
   "source": [
    "We can combine the distributed cuML model into a single GPU model. Then, we can pickle it like we did above."
   ]
  },
  {
   "cell_type": "code",
   "execution_count": 26,
   "id": "88f5ec29-5aaa-4f80-bd96-c75e6a24ba7f",
   "metadata": {},
   "outputs": [],
   "source": [
    "single_gpu_model = dist_model.get_combined_model()\n",
    "pickle.dump(single_gpu_model, open(\"distributed_kmeans_model.pkl\", \"wb\"))"
   ]
  },
  {
   "cell_type": "code",
   "execution_count": 27,
   "id": "2550b83d-a327-4b96-b0af-196cd9abb5bc",
   "metadata": {},
   "outputs": [
    {
     "data": {
      "text/plain": [
       "array([[-4.429179 ,  5.4974027, -5.678268 , -1.6267937, -9.382265 ,\n",
       "         0.5799359,  4.296654 , -2.9607224, -5.014361 ,  9.608334 ,\n",
       "         8.356784 , -6.348927 , -6.358568 ,  2.0520344,  4.157308 ,\n",
       "        -9.048441 ,  4.6119018,  8.822718 ,  6.8774323,  2.209063 ],\n",
       "       [-5.7150435,  2.1754901, -3.9756098, -1.690938 , -5.2170424,\n",
       "         7.543781 ,  2.7733128,  8.433652 ,  1.6140108,  0.9986322,\n",
       "        -2.719721 ,  4.483001 , -4.410575 ,  2.3989952,  1.6275728,\n",
       "        -2.4665058, -5.2080455, -1.7500803, -8.178893 ,  2.6448464],\n",
       "       [ 4.8104296,  8.403568 , -9.23086  ,  9.379987 ,  8.524553 ,\n",
       "        -1.0736501,  3.3421483, -7.806808 , -0.5735142,  0.2650673,\n",
       "         5.5215764, -4.1019826,  4.268111 , -2.8475323,  3.6268995,\n",
       "        -4.1613436, -3.608778 ,  6.2141366, -6.914194 , -1.0919937],\n",
       "       [-5.9435043,  2.2477934, -3.766747 , -1.6608801, -5.4187307,\n",
       "         7.610018 ,  3.0834143,  8.648033 ,  1.5557412,  1.1172905,\n",
       "        -3.0038812,  4.449345 , -4.4684057,  2.3742785,  1.8842415,\n",
       "        -2.528816 , -5.185768 , -1.6424303, -8.069626 ,  2.6892369],\n",
       "       [-4.146211 ,  5.656082 , -5.7614856, -1.8355205, -9.334778 ,\n",
       "         0.8623867,  4.551223 , -2.8965735, -4.905386 ,  9.795354 ,\n",
       "         8.434752 , -6.188941 , -6.3361773,  1.8723938,  4.145016 ,\n",
       "        -9.277701 ,  4.5967126,  8.769236 ,  6.855348 ,  2.2654715]],\n",
       "      dtype=float32)"
      ]
     },
     "execution_count": 27,
     "metadata": {},
     "output_type": "execute_result"
    }
   ],
   "source": [
    "loaded_single_gpu_model = pickle.load(open(\"distributed_kmeans_model.pkl\", \"rb\"))\n",
    "loaded_single_gpu_model.cluster_centers_"
   ]
  },
  {
   "cell_type": "code",
   "execution_count": null,
   "id": "54bc3266-7d78-457e-bdb1-785225769c1b",
   "metadata": {},
   "outputs": [],
   "source": []
  }
 ],
 "metadata": {
  "kernelspec": {
   "display_name": "Python 3",
   "language": "python",
   "name": "python3"
  },
  "language_info": {
   "codemirror_mode": {
    "name": "ipython",
    "version": 3
   },
   "file_extension": ".py",
   "mimetype": "text/x-python",
   "name": "python",
   "nbconvert_exporter": "python",
   "pygments_lexer": "ipython3",
   "version": "3.8.8"
  }
 },
 "nbformat": 4,
 "nbformat_minor": 5
}
