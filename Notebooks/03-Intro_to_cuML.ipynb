{
 "cells": [
  {
   "cell_type": "markdown",
   "id": "4df964b5-7909-466a-ab66-4b43801e55c8",
   "metadata": {},
   "source": [
    "# Introduction to cuML\n",
    "\n",
    "What is cuML?"
   ]
  },
  {
   "cell_type": "code",
   "execution_count": 46,
   "id": "ef36e95f-4f5e-4e16-a1ae-e659fcc7dda6",
   "metadata": {},
   "outputs": [],
   "source": [
    "## Introduction and key concepts\n",
    "\n",
    "## cuML vs Scikit-Learn\n",
    "\n",
    "## cuML Estimators\n",
    "\n",
    "### Regressors\n",
    "\n",
    "### Classifiers\n",
    "\n",
    "### Clusterers\n",
    "\n",
    "### Dimensionality Reduction\n",
    "\n",
    "## cuML Preprocesing\n",
    "\n",
    "## Pipelines\n",
    "\n",
    "## Explainability\n",
    "\n",
    "## Pickling Models"
   ]
  },
  {
   "cell_type": "code",
   "execution_count": null,
   "id": "6936ed59-6779-4c7f-ab2c-d9841fc0bc31",
   "metadata": {},
   "outputs": [],
   "source": []
  },
  {
   "cell_type": "code",
   "execution_count": null,
   "id": "152ae6d5-c54d-48c5-ba77-7162764eaaed",
   "metadata": {},
   "outputs": [],
   "source": []
  },
  {
   "cell_type": "code",
   "execution_count": null,
   "id": "5838ceee-a829-4b5e-b872-8760150649bd",
   "metadata": {},
   "outputs": [],
   "source": []
  },
  {
   "cell_type": "code",
   "execution_count": null,
   "id": "6dbeabd9-b098-44d1-b944-93cb9668c3dd",
   "metadata": {},
   "outputs": [],
   "source": []
  },
  {
   "cell_type": "code",
   "execution_count": 23,
   "id": "c18af27b-b786-4c7d-9856-5d561332bda2",
   "metadata": {},
   "outputs": [],
   "source": [
    "from cuml.svm import SVC\n",
    "from cuml.preprocessing import StandardScaler, PolynomialFeatures\n",
    "from cuml.model_selection import train_test_split\n",
    "from cuml.datasets import make_classification\n",
    "\n",
    "from sklearn.pipeline import Pipeline"
   ]
  },
  {
   "cell_type": "code",
   "execution_count": 35,
   "id": "ea6bbd9b-2376-4f25-b347-e9cb62a881cf",
   "metadata": {},
   "outputs": [],
   "source": [
    "NFEATURES = 20\n",
    "\n",
    "X, y = make_classification(\n",
    "    n_samples=100000,\n",
    "    n_features=NFEATURES,\n",
    "    n_informative=NFEATURES,\n",
    "    n_redundant=0,\n",
    "    n_classes=2,\n",
    "    class_sep=0.01,\n",
    "    random_state=0\n",
    ")\n",
    "X_train, X_test, y_train, y_test = train_test_split(X, y,\n",
    "                                                    random_state=0)"
   ]
  },
  {
   "cell_type": "code",
   "execution_count": 37,
   "id": "5a5c59f6-6fd3-4b90-8219-0a95ef57a346",
   "metadata": {},
   "outputs": [
    {
     "data": {
      "text/plain": [
       "0.9762799739837646"
      ]
     },
     "execution_count": 37,
     "metadata": {},
     "output_type": "execute_result"
    }
   ],
   "source": [
    "clf = SVC()\n",
    "clf.fit(X_train, y_train)\n",
    "clf.score(X_test, y_test)"
   ]
  },
  {
   "cell_type": "code",
   "execution_count": 38,
   "id": "ba2afbc9-59e1-44ab-97ec-79b85c29ec65",
   "metadata": {},
   "outputs": [
    {
     "data": {
      "text/plain": [
       "0.9764000177383423"
      ]
     },
     "execution_count": 38,
     "metadata": {},
     "output_type": "execute_result"
    }
   ],
   "source": [
    "pipe = Pipeline([\n",
    "    ('scaler', StandardScaler()),\n",
    "    ('svc', SVC()),\n",
    "])\n",
    "# The pipeline can be used as any other estimator\n",
    "# and avoids leaking the test set into the train set\n",
    "pipe.fit(X_train, y_train)\n",
    "pipe.score(X_test, y_test)"
   ]
  },
  {
   "cell_type": "code",
   "execution_count": 41,
   "id": "49721d6a-945e-46c5-82c3-966893b298c0",
   "metadata": {},
   "outputs": [
    {
     "data": {
      "text/plain": [
       "0.981440007686615"
      ]
     },
     "execution_count": 41,
     "metadata": {},
     "output_type": "execute_result"
    }
   ],
   "source": [
    "pipe = Pipeline([\n",
    "    (\"polynomial_feat\", PolynomialFeatures(2)),\n",
    "    ('scaler', StandardScaler()),\n",
    "    ('svc', SVC()),\n",
    "])\n",
    "# The pipeline can be used as any other estimator\n",
    "# and avoids leaking the test set into the train set\n",
    "pipe.fit(X_train, y_train)\n",
    "pipe.score(X_test, y_test)"
   ]
  },
  {
   "cell_type": "code",
   "execution_count": null,
   "id": "f846f869-6ccb-4860-aaf1-b21505b2b5b0",
   "metadata": {},
   "outputs": [],
   "source": []
  }
 ],
 "metadata": {
  "kernelspec": {
   "display_name": "Python 3",
   "language": "python",
   "name": "python3"
  },
  "language_info": {
   "codemirror_mode": {
    "name": "ipython",
    "version": 3
   },
   "file_extension": ".py",
   "mimetype": "text/x-python",
   "name": "python",
   "nbconvert_exporter": "python",
   "pygments_lexer": "ipython3",
   "version": "3.8.8"
  }
 },
 "nbformat": 4,
 "nbformat_minor": 5
}
