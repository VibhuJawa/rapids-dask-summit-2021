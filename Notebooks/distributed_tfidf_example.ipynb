{
 "cells": [
  {
   "cell_type": "code",
   "execution_count": 1,
   "metadata": {},
   "outputs": [],
   "source": [
    "import cupy as cp\n",
    "from dask_cuda import LocalCUDACluster\n",
    "from dask.distributed import Client\n",
    "from cuml.dask.common import to_sparse_dask_array\n",
    "from cuml.dask.naive_bayes import MultinomialNB\n",
    "import dask\n",
    "from cuml.dask.feature_extraction.text import TfidfTransformer\n",
    "\n",
    "\n",
    "from cuml.feature_extraction.text import TfidfTransformer as CumlTfidfTransformer\n",
    "from cuml.feature_extraction.text import HashingVectorizer as CumlHashVect\n",
    "\n",
    "import os\n",
    "import cudf\n",
    "import dask_cudf\n",
    "from cudf import Series\n",
    "import cupy as cp\n",
    "from distributed import wait\n",
    "import numpy as np\n",
    "from scipy.sparse import random"
   ]
  },
  {
   "cell_type": "code",
   "execution_count": 2,
   "metadata": {},
   "outputs": [],
   "source": [
    "cluster = LocalCUDACluster()\n",
    "client = Client(cluster)"
   ]
  },
  {
   "cell_type": "code",
   "execution_count": 3,
   "metadata": {},
   "outputs": [
    {
     "data": {
      "text/html": [
       "<table style=\"border: 2px solid white;\">\n",
       "<tr>\n",
       "<td style=\"vertical-align: top; border: 0px solid white\">\n",
       "<h3 style=\"text-align: left;\">Client</h3>\n",
       "<ul style=\"text-align: left; list-style: none; margin: 0; padding: 0;\">\n",
       "  <li><b>Scheduler: </b>tcp://127.0.0.1:45039</li>\n",
       "  <li><b>Dashboard: </b><a href='http://127.0.0.1:8787/status' target='_blank'>http://127.0.0.1:8787/status</a></li>\n",
       "</ul>\n",
       "</td>\n",
       "<td style=\"vertical-align: top; border: 0px solid white\">\n",
       "<h3 style=\"text-align: left;\">Cluster</h3>\n",
       "<ul style=\"text-align: left; list-style:none; margin: 0; padding: 0;\">\n",
       "  <li><b>Workers: </b>4</li>\n",
       "  <li><b>Cores: </b>4</li>\n",
       "  <li><b>Memory: </b>404.32 GB</li>\n",
       "</ul>\n",
       "</td>\n",
       "</tr>\n",
       "</table>"
      ],
      "text/plain": [
       "<Client: 'tcp://127.0.0.1:45039' processes=4 threads=4, memory=404.32 GB>"
      ]
     },
     "execution_count": 3,
     "metadata": {},
     "output_type": "execute_result"
    }
   ],
   "source": [
    "client"
   ]
  },
  {
   "cell_type": "markdown",
   "metadata": {},
   "source": [
    "# Read + Filter Data"
   ]
  },
  {
   "cell_type": "code",
   "execution_count": 4,
   "metadata": {},
   "outputs": [],
   "source": [
    "path='/nvme/0/vjawa/string_experiments/tweets/*.CSV'\n",
    "df = dask_cudf.read_csv(path)\n",
    "df=df[df.lang=='en'].persist()\n",
    "_ = wait(df)"
   ]
  },
  {
   "cell_type": "code",
   "execution_count": 5,
   "metadata": {},
   "outputs": [
    {
     "data": {
      "text/plain": [
       "2     “People are just storing up. They are staying ...\n",
       "6     .@PatriceHarrisMD spoke with @YahooFinance abo...\n",
       "7     First medical team aiding #Wuhan in fight agai...\n",
       "9     .@KathyGriffin: @realDonaldTrump Is 'Lying' Ab...\n",
       "14    #CoronaUpdate | Johns Hopkins University has s...\n",
       "17    Singapore donates 40,000 test kits to the Phil...\n",
       "19    It's been a remarkable week for bold policy an...\n",
       "26    #Pentagon activates special protocols to fight...\n",
       "28    Lockdowns, drones: Will things ever go back to...\n",
       "30    Does the #COVID19 pandemic have you feeling ou...\n",
       "Name: text, dtype: object"
      ]
     },
     "execution_count": 5,
     "metadata": {},
     "output_type": "execute_result"
    }
   ],
   "source": [
    "df['text'].head(10)"
   ]
  },
  {
   "cell_type": "markdown",
   "metadata": {},
   "source": [
    "# Actual TF-IDF RUN (Hashing Vec+Tranformer)"
   ]
  },
  {
   "cell_type": "code",
   "execution_count": 6,
   "metadata": {},
   "outputs": [
    {
     "name": "stdout",
     "output_type": "stream",
     "text": [
      "[I] [13:35:16.399707] [Delayed('_merge_stats_to_model-9f97e3b4-90b8-4cc1-93b6-9e2ebe9d4cbb')]\n",
      "[I] [13:35:16.401723] [Delayed('_merge_stats_to_model-ac7414d0-a80b-4380-9d85-8db21f8cb68f')]\n",
      "[I] [13:35:16.403639] [Delayed('_merge_stats_to_model-3bda724f-4a29-421b-b123-de4516705abf')]\n",
      "[I] [13:35:16.404669] [Delayed('_merge_stats_to_model-cb173d21-0982-4196-a024-6d831ccf6468')]\n",
      "[I] [13:35:16.450830] [<Future: finished, type: cuml.TfidfTransformer, key: _merge_stats_to_model-9f97e3b4-90b8-4cc1-93b6-9e2ebe9d4cbb>]\n",
      "[I] [13:35:16.450894] [<Future: finished, type: cuml.TfidfTransformer, key: _merge_stats_to_model-ac7414d0-a80b-4380-9d85-8db21f8cb68f>]\n",
      "[I] [13:35:16.451141] [<Future: finished, type: cuml.TfidfTransformer, key: _merge_stats_to_model-3bda724f-4a29-421b-b123-de4516705abf>]\n",
      "[I] [13:35:16.451249] [<Future: finished, type: cuml.TfidfTransformer, key: _merge_stats_to_model-cb173d21-0982-4196-a024-6d831ccf6468>]\n",
      "[I] [13:35:16.453126] [Delayed('_merge_stats_to_model-50977310-0a4b-446f-9f37-724c7a00ee8f')]\n",
      "CPU times: user 641 ms, sys: 149 ms, total: 790 ms\n",
      "Wall time: 3.77 s\n"
     ]
    },
    {
     "data": {
      "text/html": [
       "<table>\n",
       "<tr>\n",
       "<td>\n",
       "<table>\n",
       "  <thead>\n",
       "    <tr><td> </td><th> Array </th><th> Chunk </th></tr>\n",
       "  </thead>\n",
       "  <tbody>\n",
       "    <tr><th> Bytes </th><td> 20.25 TB </td> <td> 1.59 TB </td></tr>\n",
       "    <tr><th> Shape </th><td> (4827372, 1048576) </td> <td> (378267, 1048576) </td></tr>\n",
       "    <tr><th> Count </th><td> 18 Tasks </td><td> 18 Chunks </td></tr>\n",
       "    <tr><th> Type </th><td> float32 </td><td> cupy.ndarray </td></tr>\n",
       "  </tbody>\n",
       "</table>\n",
       "</td>\n",
       "<td>\n",
       "<svg width=\"92\" height=\"170\" style=\"stroke:rgb(0,0,0);stroke-width:1\" >\n",
       "\n",
       "  <!-- Horizontal lines -->\n",
       "  <line x1=\"0\" y1=\"0\" x2=\"42\" y2=\"0\" style=\"stroke-width:2\" />\n",
       "  <line x1=\"0\" y1=\"7\" x2=\"42\" y2=\"7\" />\n",
       "  <line x1=\"0\" y1=\"15\" x2=\"42\" y2=\"15\" />\n",
       "  <line x1=\"0\" y1=\"24\" x2=\"42\" y2=\"24\" />\n",
       "  <line x1=\"0\" y1=\"33\" x2=\"42\" y2=\"33\" />\n",
       "  <line x1=\"0\" y1=\"41\" x2=\"42\" y2=\"41\" />\n",
       "  <line x1=\"0\" y1=\"49\" x2=\"42\" y2=\"49\" />\n",
       "  <line x1=\"0\" y1=\"55\" x2=\"42\" y2=\"55\" />\n",
       "  <line x1=\"0\" y1=\"61\" x2=\"42\" y2=\"61\" />\n",
       "  <line x1=\"0\" y1=\"70\" x2=\"42\" y2=\"70\" />\n",
       "  <line x1=\"0\" y1=\"76\" x2=\"42\" y2=\"76\" />\n",
       "  <line x1=\"0\" y1=\"83\" x2=\"42\" y2=\"83\" />\n",
       "  <line x1=\"0\" y1=\"90\" x2=\"42\" y2=\"90\" />\n",
       "  <line x1=\"0\" y1=\"96\" x2=\"42\" y2=\"96\" />\n",
       "  <line x1=\"0\" y1=\"100\" x2=\"42\" y2=\"100\" />\n",
       "  <line x1=\"0\" y1=\"103\" x2=\"42\" y2=\"103\" />\n",
       "  <line x1=\"0\" y1=\"107\" x2=\"42\" y2=\"107\" />\n",
       "  <line x1=\"0\" y1=\"113\" x2=\"42\" y2=\"113\" />\n",
       "  <line x1=\"0\" y1=\"120\" x2=\"42\" y2=\"120\" style=\"stroke-width:2\" />\n",
       "\n",
       "  <!-- Vertical lines -->\n",
       "  <line x1=\"0\" y1=\"0\" x2=\"0\" y2=\"120\" style=\"stroke-width:2\" />\n",
       "  <line x1=\"42\" y1=\"0\" x2=\"42\" y2=\"120\" style=\"stroke-width:2\" />\n",
       "\n",
       "  <!-- Colored Rectangle -->\n",
       "  <polygon points=\"0.0,0.0 42.351446012507544,0.0 42.351446012507544,120.0 0.0,120.0\" style=\"fill:#ECB172A0;stroke-width:0\"/>\n",
       "\n",
       "  <!-- Text -->\n",
       "  <text x=\"21.175723\" y=\"140.000000\" font-size=\"1.0rem\" font-weight=\"100\" text-anchor=\"middle\" >1048576</text>\n",
       "  <text x=\"62.351446\" y=\"60.000000\" font-size=\"1.0rem\" font-weight=\"100\" text-anchor=\"middle\" transform=\"rotate(-90,62.351446,60.000000)\">4827372</text>\n",
       "</svg>\n",
       "</td>\n",
       "</tr>\n",
       "</table>"
      ],
      "text/plain": [
       "dask.array<concatenate, shape=(4827372, 1048576), dtype=float32, chunksize=(378267, 1048576), chunktype=cupy.ndarray>"
      ]
     },
     "execution_count": 6,
     "metadata": {},
     "output_type": "execute_result"
    }
   ],
   "source": [
    "%%time\n",
    "vec = CumlHashVect(stop_words = 'english',preprocessor= lambda ser:ser.str.lower())\n",
    "mutli_gpu_transformer = TfidfTransformer()\n",
    "\n",
    "meta = dask.array.from_array(cp.sparse.csr_matrix(cp.zeros(1, dtype=cp.float32)))\n",
    "X = df[\"text\"].map_partitions(vec.fit_transform, meta=meta)\n",
    "X = X.astype(np.float32).persist()\n",
    "X.compute_chunk_sizes()\n",
    "wait(X)\n",
    "X_transormed = mutli_gpu_transformer.fit_transform(X).persist()\n",
    "wait(X_transormed)\n",
    "X_transormed.compute_chunk_sizes()"
   ]
  },
  {
   "cell_type": "markdown",
   "metadata": {},
   "source": [
    "# Using these for document Search"
   ]
  },
  {
   "cell_type": "code",
   "execution_count": 7,
   "metadata": {},
   "outputs": [],
   "source": [
    "mat = random(1,1)\n",
    "o =  X_transormed.map_blocks(lambda x:x.get(),meta=mat)\n",
    "output = o.compute()\n",
    "cudf_df = df[['text','status_id']].compute()\n",
    "cupy_mat = cp.sparse.csr_matrix(output)"
   ]
  },
  {
   "cell_type": "code",
   "execution_count": 8,
   "metadata": {},
   "outputs": [],
   "source": [
    "from cuml.common.sparsefuncs import csr_row_normalize_l2\n",
    "\n",
    "def custom_vectorizer(X):\n",
    "    hashed_v =  CumlHashVect(stop_words='english')\n",
    "    tf_idf_v = mutli_gpu_transformer.internal_model.result()\n",
    "    return tf_idf_v.transform(hashed_v.transform(X))\n",
    "\n",
    "def efficient_csr_cosine_similarity(query, tfidf_matrix, matrix_normalized=False):\n",
    "    query = csr_row_normalize_l2(query, inplace=False)\n",
    "    if not matrix_normalized:\n",
    "        tfidf_matrix = csr_row_normalize_l2(tfidf_matrix, inplace=False)\n",
    "    \n",
    "    return tfidf_matrix.dot(query.T)\n",
    "\n",
    "\n",
    "def document_search(text_df, query, tfidf_matrix, top_n=3):\n",
    "    query_vec = custom_vectorizer(Series([query]))\n",
    "    similarities = efficient_csr_cosine_similarity(query_vec, tfidf_matrix, matrix_normalized=True)\n",
    "    similarities = similarities.todense().reshape(-1)\n",
    "    best_idx = similarities.argsort()[-top_n:][::-1]\n",
    "    \n",
    "    pp = cudf.DataFrame({\n",
    "        'text': text_df['text'].iloc[best_idx],\n",
    "        'similarity': similarities[best_idx]\n",
    "    })\n",
    "    return pp"
   ]
  },
  {
   "cell_type": "code",
   "execution_count": 9,
   "metadata": {},
   "outputs": [
    {
     "data": {
      "text/html": [
       "<div>\n",
       "<style scoped>\n",
       "    .dataframe tbody tr th:only-of-type {\n",
       "        vertical-align: middle;\n",
       "    }\n",
       "\n",
       "    .dataframe tbody tr th {\n",
       "        vertical-align: top;\n",
       "    }\n",
       "\n",
       "    .dataframe thead th {\n",
       "        text-align: right;\n",
       "    }\n",
       "</style>\n",
       "<table border=\"1\" class=\"dataframe\">\n",
       "  <thead>\n",
       "    <tr style=\"text-align: right;\">\n",
       "      <th></th>\n",
       "      <th>text</th>\n",
       "      <th>similarity</th>\n",
       "    </tr>\n",
       "  </thead>\n",
       "  <tbody>\n",
       "    <tr>\n",
       "      <th>207793</th>\n",
       "      <td>Computer Science has been diverging as CS + cr...</td>\n",
       "      <td>0.398849</td>\n",
       "    </tr>\n",
       "    <tr>\n",
       "      <th>237113</th>\n",
       "      <td>Will the Coronavirus bring computer and medica...</td>\n",
       "      <td>0.359052</td>\n",
       "    </tr>\n",
       "    <tr>\n",
       "      <th>474055</th>\n",
       "      <td>@IBMWatson is going to save us in #coronavirus...</td>\n",
       "      <td>0.358686</td>\n",
       "    </tr>\n",
       "  </tbody>\n",
       "</table>\n",
       "</div>"
      ],
      "text/plain": [
       "                                                     text  similarity\n",
       "207793  Computer Science has been diverging as CS + cr...    0.398849\n",
       "237113  Will the Coronavirus bring computer and medica...    0.359052\n",
       "474055  @IBMWatson is going to save us in #coronavirus...    0.358686"
      ]
     },
     "execution_count": 9,
     "metadata": {},
     "output_type": "execute_result"
    }
   ],
   "source": [
    "document_search(cudf_df[['text']], 'computer science and NLP', cupy_mat)\n"
   ]
  },
  {
   "cell_type": "code",
   "execution_count": 11,
   "metadata": {},
   "outputs": [
    {
     "data": {
      "text/html": [
       "<div>\n",
       "<style scoped>\n",
       "    .dataframe tbody tr th:only-of-type {\n",
       "        vertical-align: middle;\n",
       "    }\n",
       "\n",
       "    .dataframe tbody tr th {\n",
       "        vertical-align: top;\n",
       "    }\n",
       "\n",
       "    .dataframe thead th {\n",
       "        text-align: right;\n",
       "    }\n",
       "</style>\n",
       "<table border=\"1\" class=\"dataframe\">\n",
       "  <thead>\n",
       "    <tr style=\"text-align: right;\">\n",
       "      <th></th>\n",
       "      <th>text</th>\n",
       "      <th>similarity</th>\n",
       "    </tr>\n",
       "  </thead>\n",
       "  <tbody>\n",
       "    <tr>\n",
       "      <th>149315</th>\n",
       "      <td>Nvidia Joins War Against COVID-19 With AI, GPU...</td>\n",
       "      <td>0.439025</td>\n",
       "    </tr>\n",
       "    <tr>\n",
       "      <th>163154</th>\n",
       "      <td>Nvidia RTX 3000 GPU delayed due to CoronaVirus...</td>\n",
       "      <td>0.425495</td>\n",
       "    </tr>\n",
       "    <tr>\n",
       "      <th>104222</th>\n",
       "      <td>Over 80% of physicians expect 2nd #COVID19 out...</td>\n",
       "      <td>0.394341</td>\n",
       "    </tr>\n",
       "  </tbody>\n",
       "</table>\n",
       "</div>"
      ],
      "text/plain": [
       "                                                     text  similarity\n",
       "149315  Nvidia Joins War Against COVID-19 With AI, GPU...    0.439025\n",
       "163154  Nvidia RTX 3000 GPU delayed due to CoronaVirus...    0.425495\n",
       "104222  Over 80% of physicians expect 2nd #COVID19 out...    0.394341"
      ]
     },
     "execution_count": 11,
     "metadata": {},
     "output_type": "execute_result"
    }
   ],
   "source": [
    "document_search(cudf_df[['text']], 'nvidia-gpu', cupy_mat)"
   ]
  }
 ],
 "metadata": {
  "kernelspec": {
   "display_name": "Python 3",
   "language": "python",
   "name": "python3"
  },
  "language_info": {
   "codemirror_mode": {
    "name": "ipython",
    "version": 3
   },
   "file_extension": ".py",
   "mimetype": "text/x-python",
   "name": "python",
   "nbconvert_exporter": "python",
   "pygments_lexer": "ipython3",
   "version": "3.7.8"
  }
 },
 "nbformat": 4,
 "nbformat_minor": 4
}
